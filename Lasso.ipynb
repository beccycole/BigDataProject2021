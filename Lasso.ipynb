{
  "nbformat": 4,
  "nbformat_minor": 0,
  "metadata": {
    "colab": {
      "name": "Lasso.ipynb",
      "provenance": [],
      "collapsed_sections": [],
      "authorship_tag": "ABX9TyOiLTK/3OSkh4ACLjIRRk5R",
      "include_colab_link": true
    },
    "kernelspec": {
      "name": "python3",
      "display_name": "Python 3"
    },
    "language_info": {
      "name": "python"
    }
  },
  "cells": [
    {
      "cell_type": "markdown",
      "metadata": {
        "id": "view-in-github",
        "colab_type": "text"
      },
      "source": [
        "<a href=\"https://colab.research.google.com/github/beccycole/BigDataProject2021/blob/main/Lasso.ipynb\" target=\"_parent\"><img src=\"https://colab.research.google.com/assets/colab-badge.svg\" alt=\"Open In Colab\"/></a>"
      ]
    },
    {
      "cell_type": "markdown",
      "metadata": {
        "id": "tnYkd5ENuqEs"
      },
      "source": [
        "## Install PySpark"
      ]
    },
    {
      "cell_type": "code",
      "metadata": {
        "id": "mOfqgZ_RaocS"
      },
      "source": [
        "# download Java, install Apache Spark 3.1.1 with Hadoop 2.7 and unzip folder\n",
        "!apt-get install openjdk-8-jdk-headless -qq > /dev/null\n",
        "!wget -q https://www-us.apache.org/dist/spark/spark-3.0.2/spark-3.0.2-bin-hadoop2.7.tgz\n",
        "!tar xf spark-3.0.2-bin-hadoop2.7.tgz\n",
        "\n",
        "# install the findspark library\n",
        "!pip install -q findspark\n",
        "\n",
        "# set up environment path to enable PySpark to run in Colab\n",
        "import os\n",
        "os.environ[\"SPARK_HOME\"] = \"/content/spark-3.0.2-bin-hadoop2.7\"\n",
        "\n",
        "# import findspark\n",
        "import findspark\n",
        "findspark.init()"
      ],
      "execution_count": null,
      "outputs": []
    },
    {
      "cell_type": "markdown",
      "metadata": {
        "id": "w5-kLfZeut9l"
      },
      "source": [
        "## Import SparkSession"
      ]
    },
    {
      "cell_type": "code",
      "metadata": {
        "colab": {
          "base_uri": "https://localhost:8080/",
          "height": 216
        },
        "id": "ml003Rawaxly",
        "outputId": "0d3e9302-186c-4049-aa34-46852f2acd31"
      },
      "source": [
        "from pyspark.sql import SparkSession\n",
        "spark = SparkSession.builder.master(\"local[*]\").getOrCreate()\n",
        "spark.conf.set(\"spark.sql.repl.eagerEval.enabled\", True) # Property used to format output tables better\n",
        "spark"
      ],
      "execution_count": null,
      "outputs": [
        {
          "output_type": "execute_result",
          "data": {
            "text/html": [
              "\n",
              "            <div>\n",
              "                <p><b>SparkSession - in-memory</b></p>\n",
              "                \n",
              "        <div>\n",
              "            <p><b>SparkContext</b></p>\n",
              "\n",
              "            <p><a href=\"http://fdb82614083e:4040\">Spark UI</a></p>\n",
              "\n",
              "            <dl>\n",
              "              <dt>Version</dt>\n",
              "                <dd><code>v3.0.2</code></dd>\n",
              "              <dt>Master</dt>\n",
              "                <dd><code>local[*]</code></dd>\n",
              "              <dt>AppName</dt>\n",
              "                <dd><code>pyspark-shell</code></dd>\n",
              "            </dl>\n",
              "        </div>\n",
              "        \n",
              "            </div>\n",
              "        "
            ],
            "text/plain": [
              "<pyspark.sql.session.SparkSession at 0x7fcfef683910>"
            ]
          },
          "metadata": {
            "tags": []
          },
          "execution_count": 2
        }
      ]
    },
    {
      "cell_type": "markdown",
      "metadata": {
        "id": "M2-6O25IuySb"
      },
      "source": [
        "## Import Boston housing dataset from Github"
      ]
    },
    {
      "cell_type": "code",
      "metadata": {
        "colab": {
          "base_uri": "https://localhost:8080/"
        },
        "id": "yDxZt72Faxuc",
        "outputId": "88e0502f-4ace-42b5-bd05-946ccfb0656a"
      },
      "source": [
        "!wget https://raw.githubusercontent.com/beccycole/BigDataProject2021/main/Boston.csv"
      ],
      "execution_count": null,
      "outputs": [
        {
          "output_type": "stream",
          "text": [
            "--2021-04-24 11:52:25--  https://raw.githubusercontent.com/beccycole/BigDataProject2021/main/Boston.csv\n",
            "Resolving raw.githubusercontent.com (raw.githubusercontent.com)... 185.199.108.133, 185.199.109.133, 185.199.110.133, ...\n",
            "Connecting to raw.githubusercontent.com (raw.githubusercontent.com)|185.199.108.133|:443... connected.\n",
            "HTTP request sent, awaiting response... 200 OK\n",
            "Length: 37123 (36K) [text/plain]\n",
            "Saving to: ‘Boston.csv’\n",
            "\n",
            "Boston.csv          100%[===================>]  36.25K  --.-KB/s    in 0.002s  \n",
            "\n",
            "2021-04-24 11:52:26 (23.2 MB/s) - ‘Boston.csv’ saved [37123/37123]\n",
            "\n"
          ],
          "name": "stdout"
        }
      ]
    },
    {
      "cell_type": "markdown",
      "metadata": {
        "id": "Io7xTFF5u4_R"
      },
      "source": [
        "## Load data into Spark dataframe"
      ]
    },
    {
      "cell_type": "code",
      "metadata": {
        "colab": {
          "base_uri": "https://localhost:8080/"
        },
        "id": "PdRFVHmwaxx8",
        "outputId": "bd071e17-55e7-4d0c-8d3c-3d5cc6fe6f58"
      },
      "source": [
        "# read the csv and load into a Spark dataframe using inferSchema parameter to automatically determine the data type for each column\n",
        "df2 = spark.read.csv(\"Boston.csv\", header=True, inferSchema=True)\n",
        "\n",
        "# display first 6 rows\n",
        "df2.show(6, truncate=False)\n"
      ],
      "execution_count": null,
      "outputs": [
        {
          "output_type": "stream",
          "text": [
            "+---+-------+----+-----+----+-----+-----+----+------+---+---+-------+------+-----+----+\n",
            "|_c0|crim   |zn  |indus|chas|nox  |rm   |age |dis   |rad|tax|ptratio|black |lstat|medv|\n",
            "+---+-------+----+-----+----+-----+-----+----+------+---+---+-------+------+-----+----+\n",
            "|1  |0.00632|18.0|2.31 |0   |0.538|6.575|65.2|4.09  |1  |296|15.3   |396.9 |4.98 |24.0|\n",
            "|2  |0.02731|0.0 |7.07 |0   |0.469|6.421|78.9|4.9671|2  |242|17.8   |396.9 |9.14 |21.6|\n",
            "|3  |0.02729|0.0 |7.07 |0   |0.469|7.185|61.1|4.9671|2  |242|17.8   |392.83|4.03 |34.7|\n",
            "|4  |0.03237|0.0 |2.18 |0   |0.458|6.998|45.8|6.0622|3  |222|18.7   |394.63|2.94 |33.4|\n",
            "|5  |0.06905|0.0 |2.18 |0   |0.458|7.147|54.2|6.0622|3  |222|18.7   |396.9 |5.33 |36.2|\n",
            "|6  |0.02985|0.0 |2.18 |0   |0.458|6.43 |58.7|6.0622|3  |222|18.7   |394.12|5.21 |28.7|\n",
            "+---+-------+----+-----+----+-----+-----+----+------+---+---+-------+------+-----+----+\n",
            "only showing top 6 rows\n",
            "\n"
          ],
          "name": "stdout"
        }
      ]
    },
    {
      "cell_type": "markdown",
      "metadata": {
        "id": "oh4LdTRxvI1L"
      },
      "source": [
        "## Rename columns"
      ]
    },
    {
      "cell_type": "code",
      "metadata": {
        "colab": {
          "base_uri": "https://localhost:8080/"
        },
        "id": "hExM1oP3ax04",
        "outputId": "7e22e46d-86cb-4b8f-b086-8432f87a132a"
      },
      "source": [
        "# rename column names and create a new Spark dataframe\n",
        "df3 = df2.withColumnRenamed(\"_c0\", \"ID\") \\\n",
        "    .withColumnRenamed(\"crim\",\"crime_rate\") \\\n",
        "    .withColumnRenamed(\"zn\",\"large_zones\") \\\n",
        "    .withColumnRenamed(\"indus\",\"industrial\") \\\n",
        "    .withColumnRenamed(\"chas\",\"charles_river\") \\\n",
        "    .withColumnRenamed(\"nox\",\"nitric_oxide\") \\\n",
        "    .withColumnRenamed(\"rm\",\"rooms\") \\\n",
        "    .withColumnRenamed(\"age\",\"age\") \\\n",
        "    .withColumnRenamed(\"dis\",\"distance_employ\") \\\n",
        "    .withColumnRenamed(\"rad\",\"highway_access\") \\\n",
        "    .withColumnRenamed(\"tax\",\"property_tax\") \\\n",
        "    .withColumnRenamed(\"ptratio\",\"pupil_teacher_ratio\") \\\n",
        "    .withColumnRenamed(\"black\",\"black\") \\\n",
        "    .withColumnRenamed(\"lstat\",\"lower_status\") \\\n",
        "    .withColumnRenamed(\"medv\",\"house_price\")\n",
        "\n",
        "df3.printSchema()"
      ],
      "execution_count": null,
      "outputs": [
        {
          "output_type": "stream",
          "text": [
            "root\n",
            " |-- ID: integer (nullable = true)\n",
            " |-- crime_rate: double (nullable = true)\n",
            " |-- large_zones: double (nullable = true)\n",
            " |-- industrial: double (nullable = true)\n",
            " |-- charles_river: integer (nullable = true)\n",
            " |-- nitric_oxide: double (nullable = true)\n",
            " |-- rooms: double (nullable = true)\n",
            " |-- age: double (nullable = true)\n",
            " |-- distance_employ: double (nullable = true)\n",
            " |-- highway_access: integer (nullable = true)\n",
            " |-- property_tax: integer (nullable = true)\n",
            " |-- pupil_teacher_ratio: double (nullable = true)\n",
            " |-- black: double (nullable = true)\n",
            " |-- lower_status: double (nullable = true)\n",
            " |-- house_price: double (nullable = true)\n",
            "\n"
          ],
          "name": "stdout"
        }
      ]
    },
    {
      "cell_type": "markdown",
      "metadata": {
        "id": "wZuYzwhnvQsS"
      },
      "source": [
        "## Import PySpark MLlib modules"
      ]
    },
    {
      "cell_type": "code",
      "metadata": {
        "id": "4n-2S8BBax3o"
      },
      "source": [
        "from pyspark.ml.linalg import Vectors\n",
        "from pyspark.ml.stat import Correlation\n",
        "from pyspark.ml.feature import VectorAssembler\n",
        "from pyspark.ml.stat import Summarizer\n",
        "\n",
        "# import VectorAssembler and LinearRegression modules from the PySpark API\n",
        "from pyspark.ml.feature import VectorAssembler\n",
        "from pyspark.ml.linalg import Vectors\n",
        "\n",
        "from pyspark.ml.feature import MinMaxScaler\n",
        "\n",
        "# import LinearRegression\n",
        "from pyspark.ml.regression import LinearRegression\n",
        "\n",
        "# import regression metrics for evaluation\n",
        "from pyspark.mllib.evaluation import RegressionMetrics"
      ],
      "execution_count": null,
      "outputs": []
    },
    {
      "cell_type": "markdown",
      "metadata": {
        "id": "rNoIognjvZBu"
      },
      "source": [
        "## Create one column vector"
      ]
    },
    {
      "cell_type": "code",
      "metadata": {
        "id": "bXrZeGxUax81",
        "colab": {
          "base_uri": "https://localhost:8080/"
        },
        "outputId": "d9418811-dddb-4ed0-a424-c435decaa2b3"
      },
      "source": [
        "# display column names\n",
        "df3.columns"
      ],
      "execution_count": null,
      "outputs": [
        {
          "output_type": "execute_result",
          "data": {
            "text/plain": [
              "['ID',\n",
              " 'crime_rate',\n",
              " 'large_zones',\n",
              " 'industrial',\n",
              " 'charles_river',\n",
              " 'nitric_oxide',\n",
              " 'rooms',\n",
              " 'age',\n",
              " 'distance_employ',\n",
              " 'highway_access',\n",
              " 'property_tax',\n",
              " 'pupil_teacher_ratio',\n",
              " 'black',\n",
              " 'lower_status',\n",
              " 'house_price']"
            ]
          },
          "metadata": {
            "tags": []
          },
          "execution_count": 7
        }
      ]
    },
    {
      "cell_type": "code",
      "metadata": {
        "colab": {
          "base_uri": "https://localhost:8080/"
        },
        "id": "JrfxHsXyayAH",
        "outputId": "c02d609b-64af-48b9-f614-ddc0a789e283"
      },
      "source": [
        "# input all features into one vector column\n",
        "assembler = VectorAssembler(inputCols=['crime_rate',\n",
        " 'large_zones',\n",
        " 'industrial',\n",
        " 'charles_river',\n",
        " 'nitric_oxide',\n",
        " 'rooms',\n",
        " 'age',\n",
        " 'distance_employ',\n",
        " 'highway_access',\n",
        " 'property_tax',\n",
        " 'pupil_teacher_ratio',\n",
        " 'black',\n",
        " 'lower_status'], outputCol = 'features')\n",
        "\n",
        "output = assembler.transform(df3)\n",
        "\n",
        "# to select the features and house_price column only\n",
        "vector_data = output.select(\"features\",\"house_price\")\n",
        "\n",
        "vector_data.show()\n",
        "#output.show()"
      ],
      "execution_count": null,
      "outputs": [
        {
          "output_type": "stream",
          "text": [
            "+--------------------+-----------+\n",
            "|            features|house_price|\n",
            "+--------------------+-----------+\n",
            "|[0.00632,18.0,2.3...|       24.0|\n",
            "|[0.02731,0.0,7.07...|       21.6|\n",
            "|[0.02729,0.0,7.07...|       34.7|\n",
            "|[0.03237,0.0,2.18...|       33.4|\n",
            "|[0.06905,0.0,2.18...|       36.2|\n",
            "|[0.02985,0.0,2.18...|       28.7|\n",
            "|[0.08829,12.5,7.8...|       22.9|\n",
            "|[0.14455,12.5,7.8...|       27.1|\n",
            "|[0.21124,12.5,7.8...|       16.5|\n",
            "|[0.17004,12.5,7.8...|       18.9|\n",
            "|[0.22489,12.5,7.8...|       15.0|\n",
            "|[0.11747,12.5,7.8...|       18.9|\n",
            "|[0.09378,12.5,7.8...|       21.7|\n",
            "|[0.62976,0.0,8.14...|       20.4|\n",
            "|[0.63796,0.0,8.14...|       18.2|\n",
            "|[0.62739,0.0,8.14...|       19.9|\n",
            "|[1.05393,0.0,8.14...|       23.1|\n",
            "|[0.7842,0.0,8.14,...|       17.5|\n",
            "|[0.80271,0.0,8.14...|       20.2|\n",
            "|[0.7258,0.0,8.14,...|       18.2|\n",
            "+--------------------+-----------+\n",
            "only showing top 20 rows\n",
            "\n"
          ],
          "name": "stdout"
        }
      ]
    },
    {
      "cell_type": "markdown",
      "metadata": {
        "id": "j_paDNR3vosy"
      },
      "source": [
        "## Normalize the data"
      ]
    },
    {
      "cell_type": "code",
      "metadata": {
        "colab": {
          "base_uri": "https://localhost:8080/"
        },
        "id": "tf265XEysWDm",
        "outputId": "be4c656d-5fc4-499c-c515-c3ffc208f4a6"
      },
      "source": [
        "# apply MinMaxScaler transformation to the features\n",
        "features_MinMaxScaler = MinMaxScaler(inputCol = 'features', outputCol = 'scaled_features')\n",
        "\n",
        "output_scaled = features_MinMaxScaler.fit(vector_data)\n",
        "\n",
        "scaled_features_df = output_scaled.transform(vector_data)\n",
        "\n",
        "scaled_features_df.show(10)"
      ],
      "execution_count": null,
      "outputs": [
        {
          "output_type": "stream",
          "text": [
            "+--------------------+-----------+--------------------+\n",
            "|            features|house_price|     scaled_features|\n",
            "+--------------------+-----------+--------------------+\n",
            "|[0.00632,18.0,2.3...|       24.0|[0.0,0.18,0.06781...|\n",
            "|[0.02731,0.0,7.07...|       21.6|[2.35922539178427...|\n",
            "|[0.02729,0.0,7.07...|       34.7|[2.35697744000553...|\n",
            "|[0.03237,0.0,2.18...|       33.4|[2.92795719180468...|\n",
            "|[0.06905,0.0,2.18...|       36.2|[7.05070075400798...|\n",
            "|[0.02985,0.0,2.18...|       28.7|[2.64471526768385...|\n",
            "|[0.08829,12.5,7.8...|       22.9|[9.21323036515279...|\n",
            "|[0.14455,12.5,7.8...|       27.1|[0.00155367187187...|\n",
            "|[0.21124,12.5,7.8...|       16.5|[0.00230325139249...|\n",
            "|[0.17004,12.5,7.8...|       18.9|[0.00184017332607...|\n",
            "+--------------------+-----------+--------------------+\n",
            "only showing top 10 rows\n",
            "\n"
          ],
          "name": "stdout"
        }
      ]
    },
    {
      "cell_type": "markdown",
      "metadata": {
        "id": "j_7ZoDjYvv92"
      },
      "source": [
        "## Create a train and test set"
      ]
    },
    {
      "cell_type": "code",
      "metadata": {
        "id": "u0BESiTTbbgY"
      },
      "source": [
        "# split the dataset into training and testing data\n",
        "splits = scaled_features_df.randomSplit([0.8, 0.2])\n",
        "train_df = splits[0]\n",
        "test_df = splits[1]"
      ],
      "execution_count": null,
      "outputs": []
    },
    {
      "cell_type": "markdown",
      "metadata": {
        "id": "wDdLeF2fv4GF"
      },
      "source": [
        "## Lasso regression model"
      ]
    },
    {
      "cell_type": "code",
      "metadata": {
        "colab": {
          "base_uri": "https://localhost:8080/"
        },
        "id": "7fbM4fsWbikg",
        "outputId": "e21b98b5-21fc-4d9d-f9ea-6d6753dcb72a"
      },
      "source": [
        "# create lasso regression model\n",
        "lasso = LinearRegression(featuresCol = 'scaled_features', labelCol = 'house_price', elasticNetParam=1, regParam=0.1)\n",
        "\n",
        "# learn to fit the model from training set\n",
        "lasso_model = lasso.fit(train_df)\n",
        "\n",
        "# make predictions from trained model using test dataset\n",
        "predictions = lasso_model.transform(test_df)\n",
        "\n",
        "# show the predictions\n",
        "predictions.show(10)"
      ],
      "execution_count": null,
      "outputs": [
        {
          "output_type": "stream",
          "text": [
            "+--------------------+-----------+--------------------+------------------+\n",
            "|            features|house_price|     scaled_features|        prediction|\n",
            "+--------------------+-----------+--------------------+------------------+\n",
            "|[0.01096,55.0,2.2...|       22.0|[5.21524812666938...|28.119748662123214|\n",
            "|[0.01965,80.0,1.7...|       20.1|[1.49825986052808...|21.045482925907805|\n",
            "|[0.02498,0.0,1.89...|       16.5|[2.09733900956143...|24.630653444742393|\n",
            "|[0.03041,0.0,5.19...|       18.5|[2.70765791748848...| 19.52760912249056|\n",
            "|[0.03113,0.0,4.39...|       17.5|[2.78858418152300...| 18.48467543302448|\n",
            "|[0.03359,75.0,2.9...|       34.9|[3.06508225030763...| 33.81024677360716|\n",
            "|[0.03445,82.5,2.0...|       24.1|[3.16174417679331...| 29.44315715648171|\n",
            "|[0.03502,80.0,4.9...|       28.5|[3.22581080248731...|  32.4708764236375|\n",
            "|[0.03537,34.0,6.0...|       22.0|[3.26514995861520...| 28.77000506068196|\n",
            "|[0.03615,80.0,4.9...|       27.9|[3.35282007798594...|30.793396989963707|\n",
            "+--------------------+-----------+--------------------+------------------+\n",
            "only showing top 10 rows\n",
            "\n"
          ],
          "name": "stdout"
        }
      ]
    },
    {
      "cell_type": "markdown",
      "metadata": {
        "id": "LUIcDdjjwGxP"
      },
      "source": [
        "## Evaluate the model"
      ]
    },
    {
      "cell_type": "code",
      "metadata": {
        "colab": {
          "base_uri": "https://localhost:8080/"
        },
        "id": "HVl6gqsWbivo",
        "outputId": "7857be37-1adb-4844-97d5-10eb9f8b0754"
      },
      "source": [
        "trainingSummary = lasso_model.summary\n",
        "print(\"RMSE: %f\" % trainingSummary.rootMeanSquaredError)\n",
        "print(\"r2: %f\" % trainingSummary.r2)"
      ],
      "execution_count": null,
      "outputs": [
        {
          "output_type": "stream",
          "text": [
            "RMSE: 4.700689\n",
            "r2: 0.745427\n"
          ],
          "name": "stdout"
        }
      ]
    },
    {
      "cell_type": "code",
      "metadata": {
        "colab": {
          "base_uri": "https://localhost:8080/"
        },
        "id": "2IjRfpTTcG8n",
        "outputId": "f8a0c9fd-73d2-496e-8473-2ddadcb37b78"
      },
      "source": [
        "lasso_predictions = lasso_model.transform(test_df)\n",
        "lasso_predictions.select(\"prediction\",\"house_price\",\"features\").show(5)\n",
        "from pyspark.ml.evaluation import RegressionEvaluator\n",
        "lasso_evaluator = RegressionEvaluator(predictionCol=\"prediction\", \\\n",
        "                 labelCol=\"house_price\",metricName=\"r2\")\n",
        "print(\"R Squared (R2) on test data = %g\" % lasso_evaluator.evaluate(lasso_predictions))"
      ],
      "execution_count": null,
      "outputs": [
        {
          "output_type": "stream",
          "text": [
            "+------------------+-----------+--------------------+\n",
            "|        prediction|house_price|            features|\n",
            "+------------------+-----------+--------------------+\n",
            "|28.119748662123214|       22.0|[0.01096,55.0,2.2...|\n",
            "|21.045482925907805|       20.1|[0.01965,80.0,1.7...|\n",
            "|24.630653444742393|       16.5|[0.02498,0.0,1.89...|\n",
            "| 19.52760912249056|       18.5|[0.03041,0.0,5.19...|\n",
            "| 18.48467543302448|       17.5|[0.03113,0.0,4.39...|\n",
            "+------------------+-----------+--------------------+\n",
            "only showing top 5 rows\n",
            "\n",
            "R Squared (R2) on test data = 0.665078\n"
          ],
          "name": "stdout"
        }
      ]
    },
    {
      "cell_type": "code",
      "metadata": {
        "colab": {
          "base_uri": "https://localhost:8080/"
        },
        "id": "X5NXkX6jcKTW",
        "outputId": "7b96804d-8b2b-44c3-fe5b-0895844d6f01"
      },
      "source": [
        "test_result = lasso_model.evaluate(test_df)\n",
        "print(\"Root Mean Squared Error (RMSE) on test data = %g\" % test_result.rootMeanSquaredError)"
      ],
      "execution_count": null,
      "outputs": [
        {
          "output_type": "stream",
          "text": [
            "Root Mean Squared Error (RMSE) on test data = 4.90503\n"
          ],
          "name": "stdout"
        }
      ]
    }
  ]
}