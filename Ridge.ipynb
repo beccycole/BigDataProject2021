{
  "nbformat": 4,
  "nbformat_minor": 0,
  "metadata": {
    "colab": {
      "name": "Ridge.ipynb",
      "provenance": [],
      "collapsed_sections": [],
      "authorship_tag": "ABX9TyN5tESr9SpoGCY3mAPahbv6",
      "include_colab_link": true
    },
    "kernelspec": {
      "name": "python3",
      "display_name": "Python 3"
    },
    "language_info": {
      "name": "python"
    }
  },
  "cells": [
    {
      "cell_type": "markdown",
      "metadata": {
        "id": "view-in-github",
        "colab_type": "text"
      },
      "source": [
        "<a href=\"https://colab.research.google.com/github/beccycole/BigDataProject2021/blob/main/Ridge.ipynb\" target=\"_parent\"><img src=\"https://colab.research.google.com/assets/colab-badge.svg\" alt=\"Open In Colab\"/></a>"
      ]
    },
    {
      "cell_type": "markdown",
      "metadata": {
        "id": "GfmWfZcmg-Dh"
      },
      "source": [
        "## Install PySpark"
      ]
    },
    {
      "cell_type": "code",
      "metadata": {
        "id": "fToMQsmCSRiX"
      },
      "source": [
        "# download Java, install Apache Spark 3.1.1 with Hadoop 2.7 and unzip folder\n",
        "!apt-get install openjdk-8-jdk-headless -qq > /dev/null\n",
        "!wget -q https://www-us.apache.org/dist/spark/spark-3.0.2/spark-3.0.2-bin-hadoop2.7.tgz\n",
        "!tar xf spark-3.0.2-bin-hadoop2.7.tgz\n",
        "\n",
        "# install the findspark library\n",
        "!pip install -q findspark\n",
        "\n",
        "# set up environment path to enable PySpark to run in Colab\n",
        "import os\n",
        "os.environ[\"SPARK_HOME\"] = \"/content/spark-3.0.2-bin-hadoop2.7\"\n",
        "\n",
        "# import findspark\n",
        "import findspark\n",
        "findspark.init()"
      ],
      "execution_count": null,
      "outputs": []
    },
    {
      "cell_type": "markdown",
      "metadata": {
        "id": "DCGRbUVxhOhv"
      },
      "source": [
        "## Import SparkSession"
      ]
    },
    {
      "cell_type": "code",
      "metadata": {
        "colab": {
          "base_uri": "https://localhost:8080/",
          "height": 216
        },
        "id": "HFcsEXiVSZyt",
        "outputId": "7c120231-dd8a-4a8a-8be9-256adb17aca5"
      },
      "source": [
        "from pyspark.sql import SparkSession\n",
        "spark = SparkSession.builder.master(\"local[*]\").getOrCreate()\n",
        "spark.conf.set(\"spark.sql.repl.eagerEval.enabled\", True) # Property used to format output tables better\n",
        "spark"
      ],
      "execution_count": null,
      "outputs": [
        {
          "output_type": "execute_result",
          "data": {
            "text/html": [
              "\n",
              "            <div>\n",
              "                <p><b>SparkSession - in-memory</b></p>\n",
              "                \n",
              "        <div>\n",
              "            <p><b>SparkContext</b></p>\n",
              "\n",
              "            <p><a href=\"http://bde4a15e4e6a:4040\">Spark UI</a></p>\n",
              "\n",
              "            <dl>\n",
              "              <dt>Version</dt>\n",
              "                <dd><code>v3.0.2</code></dd>\n",
              "              <dt>Master</dt>\n",
              "                <dd><code>local[*]</code></dd>\n",
              "              <dt>AppName</dt>\n",
              "                <dd><code>pyspark-shell</code></dd>\n",
              "            </dl>\n",
              "        </div>\n",
              "        \n",
              "            </div>\n",
              "        "
            ],
            "text/plain": [
              "<pyspark.sql.session.SparkSession at 0x7fb39ca74a50>"
            ]
          },
          "metadata": {
            "tags": []
          },
          "execution_count": 2
        }
      ]
    },
    {
      "cell_type": "markdown",
      "metadata": {
        "id": "jWt4FGaehRuc"
      },
      "source": [
        "## Import Boston Housing dataset from Github"
      ]
    },
    {
      "cell_type": "code",
      "metadata": {
        "colab": {
          "base_uri": "https://localhost:8080/"
        },
        "id": "Y7TtazIfSdrS",
        "outputId": "9f760df1-7ce4-43de-f13a-4e1dffff14f4"
      },
      "source": [
        "!wget https://raw.githubusercontent.com/beccycole/BigDataProject2021/main/Boston.csv"
      ],
      "execution_count": null,
      "outputs": [
        {
          "output_type": "stream",
          "text": [
            "--2021-04-24 10:43:31--  https://raw.githubusercontent.com/beccycole/BigDataProject2021/main/Boston.csv\n",
            "Resolving raw.githubusercontent.com (raw.githubusercontent.com)... 185.199.110.133, 185.199.108.133, 185.199.109.133, ...\n",
            "Connecting to raw.githubusercontent.com (raw.githubusercontent.com)|185.199.110.133|:443... connected.\n",
            "HTTP request sent, awaiting response... 200 OK\n",
            "Length: 37123 (36K) [text/plain]\n",
            "Saving to: ‘Boston.csv’\n",
            "\n",
            "Boston.csv          100%[===================>]  36.25K  --.-KB/s    in 0.004s  \n",
            "\n",
            "2021-04-24 10:43:31 (8.97 MB/s) - ‘Boston.csv’ saved [37123/37123]\n",
            "\n"
          ],
          "name": "stdout"
        }
      ]
    },
    {
      "cell_type": "markdown",
      "metadata": {
        "id": "uj2fjKOzhfAc"
      },
      "source": [
        "## Load data into Spark dataframe"
      ]
    },
    {
      "cell_type": "code",
      "metadata": {
        "colab": {
          "base_uri": "https://localhost:8080/"
        },
        "id": "hN0rzXVxSh1D",
        "outputId": "61102c4a-f93f-4a8a-8a34-1c8648f59285"
      },
      "source": [
        "# read the csv and load into a Spark dataframe using inferSchema parameter to automatically determine the data type for each column\n",
        "df2 = spark.read.csv(\"Boston.csv\", header=True, inferSchema=True)\n",
        "\n",
        "# display first 6 rows\n",
        "df2.show(6, truncate=False)"
      ],
      "execution_count": null,
      "outputs": [
        {
          "output_type": "stream",
          "text": [
            "+---+-------+----+-----+----+-----+-----+----+------+---+---+-------+------+-----+----+\n",
            "|_c0|crim   |zn  |indus|chas|nox  |rm   |age |dis   |rad|tax|ptratio|black |lstat|medv|\n",
            "+---+-------+----+-----+----+-----+-----+----+------+---+---+-------+------+-----+----+\n",
            "|1  |0.00632|18.0|2.31 |0   |0.538|6.575|65.2|4.09  |1  |296|15.3   |396.9 |4.98 |24.0|\n",
            "|2  |0.02731|0.0 |7.07 |0   |0.469|6.421|78.9|4.9671|2  |242|17.8   |396.9 |9.14 |21.6|\n",
            "|3  |0.02729|0.0 |7.07 |0   |0.469|7.185|61.1|4.9671|2  |242|17.8   |392.83|4.03 |34.7|\n",
            "|4  |0.03237|0.0 |2.18 |0   |0.458|6.998|45.8|6.0622|3  |222|18.7   |394.63|2.94 |33.4|\n",
            "|5  |0.06905|0.0 |2.18 |0   |0.458|7.147|54.2|6.0622|3  |222|18.7   |396.9 |5.33 |36.2|\n",
            "|6  |0.02985|0.0 |2.18 |0   |0.458|6.43 |58.7|6.0622|3  |222|18.7   |394.12|5.21 |28.7|\n",
            "+---+-------+----+-----+----+-----+-----+----+------+---+---+-------+------+-----+----+\n",
            "only showing top 6 rows\n",
            "\n"
          ],
          "name": "stdout"
        }
      ]
    },
    {
      "cell_type": "markdown",
      "metadata": {
        "id": "hJxDpSLHhjEI"
      },
      "source": [
        "## Rename columns"
      ]
    },
    {
      "cell_type": "code",
      "metadata": {
        "colab": {
          "base_uri": "https://localhost:8080/"
        },
        "id": "zziU8vmKSwQv",
        "outputId": "238f1218-e616-4793-aee3-92b6854afa22"
      },
      "source": [
        "# rename column names and create a new Spark dataframe\n",
        "df3 = df2.withColumnRenamed(\"_c0\", \"ID\") \\\n",
        "    .withColumnRenamed(\"crim\",\"crime_rate\") \\\n",
        "    .withColumnRenamed(\"zn\",\"large_zones\") \\\n",
        "    .withColumnRenamed(\"indus\",\"industrial\") \\\n",
        "    .withColumnRenamed(\"chas\",\"charles_river\") \\\n",
        "    .withColumnRenamed(\"nox\",\"nitric_oxide\") \\\n",
        "    .withColumnRenamed(\"rm\",\"rooms\") \\\n",
        "    .withColumnRenamed(\"age\",\"age\") \\\n",
        "    .withColumnRenamed(\"dis\",\"distance_employ\") \\\n",
        "    .withColumnRenamed(\"rad\",\"highway_access\") \\\n",
        "    .withColumnRenamed(\"tax\",\"property_tax\") \\\n",
        "    .withColumnRenamed(\"ptratio\",\"pupil_teacher_ratio\") \\\n",
        "    .withColumnRenamed(\"black\",\"black\") \\\n",
        "    .withColumnRenamed(\"lstat\",\"lower_status\") \\\n",
        "    .withColumnRenamed(\"medv\",\"house_price\")\n",
        "\n",
        "df3.printSchema()"
      ],
      "execution_count": null,
      "outputs": [
        {
          "output_type": "stream",
          "text": [
            "root\n",
            " |-- ID: integer (nullable = true)\n",
            " |-- crime_rate: double (nullable = true)\n",
            " |-- large_zones: double (nullable = true)\n",
            " |-- industrial: double (nullable = true)\n",
            " |-- charles_river: integer (nullable = true)\n",
            " |-- nitric_oxide: double (nullable = true)\n",
            " |-- rooms: double (nullable = true)\n",
            " |-- age: double (nullable = true)\n",
            " |-- distance_employ: double (nullable = true)\n",
            " |-- highway_access: integer (nullable = true)\n",
            " |-- property_tax: integer (nullable = true)\n",
            " |-- pupil_teacher_ratio: double (nullable = true)\n",
            " |-- black: double (nullable = true)\n",
            " |-- lower_status: double (nullable = true)\n",
            " |-- house_price: double (nullable = true)\n",
            "\n"
          ],
          "name": "stdout"
        }
      ]
    },
    {
      "cell_type": "markdown",
      "metadata": {
        "id": "tEBBEaLrhotI"
      },
      "source": [
        "## Import PySpark MLlib modules"
      ]
    },
    {
      "cell_type": "code",
      "metadata": {
        "id": "4juk5WJHS4Q1"
      },
      "source": [
        "from pyspark.ml.linalg import Vectors\n",
        "from pyspark.ml.stat import Correlation\n",
        "from pyspark.ml.feature import VectorAssembler\n",
        "from pyspark.ml.stat import Summarizer\n",
        "\n",
        "# import VectorAssembler and LinearRegression modules from the PySpark API\n",
        "from pyspark.ml.feature import VectorAssembler\n",
        "from pyspark.ml.linalg import Vectors\n",
        "\n",
        "from pyspark.ml.feature import MinMaxScaler\n",
        "\n",
        "# import LinearRegression\n",
        "from pyspark.ml.regression import LinearRegression\n",
        "\n",
        "# import regression metrics for evaluation\n",
        "from pyspark.mllib.evaluation import RegressionMetrics\n"
      ],
      "execution_count": null,
      "outputs": []
    },
    {
      "cell_type": "markdown",
      "metadata": {
        "id": "JkZyp-Ohh5Fm"
      },
      "source": [
        "## Create one column vector"
      ]
    },
    {
      "cell_type": "code",
      "metadata": {
        "colab": {
          "base_uri": "https://localhost:8080/"
        },
        "id": "V0uYGrJCYimm",
        "outputId": "6f9c7088-8816-497c-9663-a0a24268f6f1"
      },
      "source": [
        "# display column names\n",
        "df3.columns"
      ],
      "execution_count": null,
      "outputs": [
        {
          "output_type": "execute_result",
          "data": {
            "text/plain": [
              "['ID',\n",
              " 'crime_rate',\n",
              " 'large_zones',\n",
              " 'industrial',\n",
              " 'charles_river',\n",
              " 'nitric_oxide',\n",
              " 'rooms',\n",
              " 'age',\n",
              " 'distance_employ',\n",
              " 'highway_access',\n",
              " 'property_tax',\n",
              " 'pupil_teacher_ratio',\n",
              " 'black',\n",
              " 'lower_status',\n",
              " 'house_price']"
            ]
          },
          "metadata": {
            "tags": []
          },
          "execution_count": 28
        }
      ]
    },
    {
      "cell_type": "code",
      "metadata": {
        "colab": {
          "base_uri": "https://localhost:8080/"
        },
        "id": "vJzZLrvFTBGv",
        "outputId": "04fa8b78-5ece-4c94-892c-0f0000e45762"
      },
      "source": [
        "# input all features into one vector column\n",
        "assembler = VectorAssembler(inputCols=['crime_rate',\n",
        " 'large_zones',\n",
        " 'industrial',\n",
        " 'charles_river',\n",
        " 'nitric_oxide',\n",
        " 'rooms',\n",
        " 'age',\n",
        " 'distance_employ',\n",
        " 'highway_access',\n",
        " 'property_tax',\n",
        " 'pupil_teacher_ratio',\n",
        " 'black',\n",
        " 'lower_status'], outputCol = 'features')\n",
        "\n",
        "output = assembler.transform(df3)\n",
        "\n",
        "# to select the features and house_price column only\n",
        "vector_data = output.select(\"features\",\"house_price\")\n",
        "\n",
        "vector_data.show()\n",
        "#output.show()"
      ],
      "execution_count": null,
      "outputs": [
        {
          "output_type": "stream",
          "text": [
            "+--------------------+-----------+\n",
            "|            features|house_price|\n",
            "+--------------------+-----------+\n",
            "|[0.00632,18.0,2.3...|       24.0|\n",
            "|[0.02731,0.0,7.07...|       21.6|\n",
            "|[0.02729,0.0,7.07...|       34.7|\n",
            "|[0.03237,0.0,2.18...|       33.4|\n",
            "|[0.06905,0.0,2.18...|       36.2|\n",
            "|[0.02985,0.0,2.18...|       28.7|\n",
            "|[0.08829,12.5,7.8...|       22.9|\n",
            "|[0.14455,12.5,7.8...|       27.1|\n",
            "|[0.21124,12.5,7.8...|       16.5|\n",
            "|[0.17004,12.5,7.8...|       18.9|\n",
            "|[0.22489,12.5,7.8...|       15.0|\n",
            "|[0.11747,12.5,7.8...|       18.9|\n",
            "|[0.09378,12.5,7.8...|       21.7|\n",
            "|[0.62976,0.0,8.14...|       20.4|\n",
            "|[0.63796,0.0,8.14...|       18.2|\n",
            "|[0.62739,0.0,8.14...|       19.9|\n",
            "|[1.05393,0.0,8.14...|       23.1|\n",
            "|[0.7842,0.0,8.14,...|       17.5|\n",
            "|[0.80271,0.0,8.14...|       20.2|\n",
            "|[0.7258,0.0,8.14,...|       18.2|\n",
            "+--------------------+-----------+\n",
            "only showing top 20 rows\n",
            "\n"
          ],
          "name": "stdout"
        }
      ]
    },
    {
      "cell_type": "markdown",
      "metadata": {
        "id": "nF4kISOfiXuH"
      },
      "source": [
        "## Normalize the data"
      ]
    },
    {
      "cell_type": "code",
      "metadata": {
        "colab": {
          "base_uri": "https://localhost:8080/"
        },
        "id": "iy9du3u7fyVT",
        "outputId": "7f57906b-3b8a-4f2a-e118-5887ea3945fa"
      },
      "source": [
        "# apply MinMaxScaler transformation to the features\n",
        "features_MinMaxScaler = MinMaxScaler(inputCol = 'features', outputCol = 'scaled_features')\n",
        "\n",
        "output_scaled = features_MinMaxScaler.fit(vector_data)\n",
        "\n",
        "scaled_features_df = output_scaled.transform(vector_data)\n",
        "\n",
        "scaled_features_df.show(10)"
      ],
      "execution_count": null,
      "outputs": [
        {
          "output_type": "stream",
          "text": [
            "+--------------------+-----------+--------------------+\n",
            "|            features|house_price|     scaled_features|\n",
            "+--------------------+-----------+--------------------+\n",
            "|[0.00632,18.0,2.3...|       24.0|[0.0,0.18,0.06781...|\n",
            "|[0.02731,0.0,7.07...|       21.6|[2.35922539178427...|\n",
            "|[0.02729,0.0,7.07...|       34.7|[2.35697744000553...|\n",
            "|[0.03237,0.0,2.18...|       33.4|[2.92795719180468...|\n",
            "|[0.06905,0.0,2.18...|       36.2|[7.05070075400798...|\n",
            "|[0.02985,0.0,2.18...|       28.7|[2.64471526768385...|\n",
            "|[0.08829,12.5,7.8...|       22.9|[9.21323036515279...|\n",
            "|[0.14455,12.5,7.8...|       27.1|[0.00155367187187...|\n",
            "|[0.21124,12.5,7.8...|       16.5|[0.00230325139249...|\n",
            "|[0.17004,12.5,7.8...|       18.9|[0.00184017332607...|\n",
            "+--------------------+-----------+--------------------+\n",
            "only showing top 10 rows\n",
            "\n"
          ],
          "name": "stdout"
        }
      ]
    },
    {
      "cell_type": "markdown",
      "metadata": {
        "id": "aawKH3fmik-W"
      },
      "source": [
        "## Create a training and test set"
      ]
    },
    {
      "cell_type": "code",
      "metadata": {
        "id": "03EF696eT_eA"
      },
      "source": [
        "# split the dataset into training and testing data\n",
        "splits = scaled_features_df.randomSplit([0.8, 0.2])\n",
        "train_df = splits[0]\n",
        "test_df = splits[1]"
      ],
      "execution_count": null,
      "outputs": []
    },
    {
      "cell_type": "markdown",
      "metadata": {
        "id": "W43KC1lJirDZ"
      },
      "source": [
        "## Ridge regression model"
      ]
    },
    {
      "cell_type": "code",
      "metadata": {
        "colab": {
          "base_uri": "https://localhost:8080/"
        },
        "id": "8cFytsc3SNCg",
        "outputId": "dd6e9420-fe22-4955-a8d9-0b179fa6e905"
      },
      "source": [
        "# create ridge regression model\n",
        "ridge = LinearRegression(featuresCol = 'scaled_features', labelCol = 'house_price', elasticNetParam=0, regParam=0.1)\n",
        "\n",
        "# learn to fit the model from training set\n",
        "ridge_model = ridge.fit(train_df)\n",
        "\n",
        "# make predictions from trained model using test dataset\n",
        "predictions = ridge_model.transform(test_df)\n",
        "\n",
        "# show the predictions\n",
        "predictions.show(10)"
      ],
      "execution_count": null,
      "outputs": [
        {
          "output_type": "stream",
          "text": [
            "+--------------------+-----------+--------------------+------------------+\n",
            "|            features|house_price|     scaled_features|        prediction|\n",
            "+--------------------+-----------+--------------------+------------------+\n",
            "|[0.01311,90.0,1.2...|       35.4|[7.63179628881144...| 30.44140446362487|\n",
            "|[0.01381,80.0,0.4...|       50.0|[8.41857941136933...|    39.45556312547|\n",
            "|[0.01501,90.0,1.2...|       50.0|[9.76735047861141...| 42.20269986080041|\n",
            "|[0.0187,85.0,4.15...|       23.1|[1.39148215103808...|25.062252707645126|\n",
            "|[0.02187,60.0,2.9...|       31.1|[1.74778250796786...|31.632215334426007|\n",
            "|[0.02543,55.0,3.7...|       23.9|[2.14791792458301...| 27.36053053204761|\n",
            "|[0.03359,75.0,2.9...|       34.9|[3.06508225030763...|  33.5024066138044|\n",
            "|[0.03578,20.0,3.3...|       45.4|[3.31123297007931...|37.656666820877575|\n",
            "|[0.03738,0.0,5.19...|       20.7|[3.49106911237825...| 21.98747643395368|\n",
            "|[0.0536,21.0,5.64...|       25.0|[5.31415800493380...|27.548507453322454|\n",
            "+--------------------+-----------+--------------------+------------------+\n",
            "only showing top 10 rows\n",
            "\n"
          ],
          "name": "stdout"
        }
      ]
    },
    {
      "cell_type": "markdown",
      "metadata": {
        "id": "YXI1eTDKi7uv"
      },
      "source": [
        "## Evaluate the Model\n",
        "The statistical metrics r2 and RMSE were used to calculate the performance of the model on the test data."
      ]
    },
    {
      "cell_type": "code",
      "metadata": {
        "colab": {
          "base_uri": "https://localhost:8080/"
        },
        "id": "3NpwnvmtUCth",
        "outputId": "6a7e954d-2e3b-4fb4-a21a-b7d28648fa83"
      },
      "source": [
        "trainingSummary = ridge_model.summary\n",
        "print(\"RMSE: %f\" % trainingSummary.rootMeanSquaredError)\n",
        "print(\"r2: %f\" % trainingSummary.r2)"
      ],
      "execution_count": null,
      "outputs": [
        {
          "output_type": "stream",
          "text": [
            "RMSE: 4.437426\n",
            "r2: 0.738069\n"
          ],
          "name": "stdout"
        }
      ]
    },
    {
      "cell_type": "code",
      "metadata": {
        "colab": {
          "base_uri": "https://localhost:8080/"
        },
        "id": "d-gqEIJgVbHC",
        "outputId": "07263ae6-33a8-4104-8a77-96d2204ee88c"
      },
      "source": [
        "ridge_predictions = ridge_model.transform(test_df)\n",
        "ridge_predictions.select(\"prediction\",\"house_price\",\"features\").show(5)\n",
        "from pyspark.ml.evaluation import RegressionEvaluator\n",
        "ridge_evaluator = RegressionEvaluator(predictionCol=\"prediction\", \\\n",
        "                 labelCol=\"house_price\",metricName=\"r2\")\n",
        "print(\"R Squared (R2) on test data = %g\" % ridge_evaluator.evaluate(ridge_predictions))"
      ],
      "execution_count": null,
      "outputs": [
        {
          "output_type": "stream",
          "text": [
            "+------------------+-----------+--------------------+\n",
            "|        prediction|house_price|            features|\n",
            "+------------------+-----------+--------------------+\n",
            "| 30.44140446362487|       35.4|[0.01311,90.0,1.2...|\n",
            "|    39.45556312547|       50.0|[0.01381,80.0,0.4...|\n",
            "| 42.20269986080041|       50.0|[0.01501,90.0,1.2...|\n",
            "|25.062252707645126|       23.1|[0.0187,85.0,4.15...|\n",
            "|31.632215334426007|       31.1|[0.02187,60.0,2.9...|\n",
            "+------------------+-----------+--------------------+\n",
            "only showing top 5 rows\n",
            "\n",
            "R Squared (R2) on test data = 0.724866\n"
          ],
          "name": "stdout"
        }
      ]
    },
    {
      "cell_type": "code",
      "metadata": {
        "colab": {
          "base_uri": "https://localhost:8080/"
        },
        "id": "1-CDkIqfYHJJ",
        "outputId": "93fca5f9-c837-427f-a2d2-9629ab190b21"
      },
      "source": [
        "test_result = ridge_model.evaluate(test_df)\n",
        "print(\"Root Mean Squared Error (RMSE) on test data = %g\" % test_result.rootMeanSquaredError)"
      ],
      "execution_count": null,
      "outputs": [
        {
          "output_type": "stream",
          "text": [
            "Root Mean Squared Error (RMSE) on test data = 5.83992\n"
          ],
          "name": "stdout"
        }
      ]
    }
  ]
}