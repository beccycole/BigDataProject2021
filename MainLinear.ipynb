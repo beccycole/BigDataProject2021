{
  "nbformat": 4,
  "nbformat_minor": 0,
  "metadata": {
    "colab": {
      "name": "MainLinear.ipynb",
      "provenance": [],
      "collapsed_sections": [],
      "toc_visible": true,
      "authorship_tag": "ABX9TyMM2xmSsUc5/gFoEk8hRPoA",
      "include_colab_link": true
    },
    "kernelspec": {
      "display_name": "Python 3",
      "name": "python3"
    },
    "language_info": {
      "name": "python"
    }
  },
  "cells": [
    {
      "cell_type": "markdown",
      "metadata": {
        "id": "view-in-github",
        "colab_type": "text"
      },
      "source": [
        "<a href=\"https://colab.research.google.com/github/beccycole/BigDataProject2021/blob/main/MainLinear.ipynb\" target=\"_parent\"><img src=\"https://colab.research.google.com/assets/colab-badge.svg\" alt=\"Open In Colab\"/></a>"
      ]
    },
    {
      "cell_type": "markdown",
      "metadata": {
        "id": "J8xtD-8X-765"
      },
      "source": [
        "# **Install PySpark**"
      ]
    },
    {
      "cell_type": "code",
      "metadata": {
        "id": "r5Y4mWcE-3Da"
      },
      "source": [
        "# download Java, install Apache Spark 3.1.1 with Hadoop 2.7 and unzip folder\n",
        "!apt-get install openjdk-8-jdk-headless -qq > /dev/null\n",
        "!wget -q https://www-us.apache.org/dist/spark/spark-3.0.2/spark-3.0.2-bin-hadoop2.7.tgz\n",
        "!tar xf spark-3.0.2-bin-hadoop2.7.tgz\n",
        "\n",
        "# install the findspark library\n",
        "!pip install -q findspark\n",
        "\n",
        "# set up environment path to enable PySpark to run in Colab\n",
        "import os\n",
        "os.environ[\"SPARK_HOME\"] = \"/content/spark-3.0.2-bin-hadoop2.7\"\n",
        "\n",
        "# import findspark\n",
        "import findspark\n",
        "findspark.init()"
      ],
      "execution_count": null,
      "outputs": []
    },
    {
      "cell_type": "markdown",
      "metadata": {
        "id": "nvA46NvjIgHQ"
      },
      "source": [
        "# **Import SparkSession**"
      ]
    },
    {
      "cell_type": "code",
      "metadata": {
        "colab": {
          "base_uri": "https://localhost:8080/",
          "height": 216
        },
        "id": "bIW5vvuG_Fu7",
        "outputId": "bc9e318a-34d3-4361-a002-275b853a36c4"
      },
      "source": [
        "from pyspark.sql import SparkSession\n",
        "spark = SparkSession.builder.master(\"local[*]\").getOrCreate()\n",
        "spark.conf.set(\"spark.sql.repl.eagerEval.enabled\", True) # Property used to format output tables better\n",
        "spark"
      ],
      "execution_count": null,
      "outputs": [
        {
          "output_type": "execute_result",
          "data": {
            "text/html": [
              "\n",
              "            <div>\n",
              "                <p><b>SparkSession - in-memory</b></p>\n",
              "                \n",
              "        <div>\n",
              "            <p><b>SparkContext</b></p>\n",
              "\n",
              "            <p><a href=\"http://a291cc388b31:4040\">Spark UI</a></p>\n",
              "\n",
              "            <dl>\n",
              "              <dt>Version</dt>\n",
              "                <dd><code>v3.0.2</code></dd>\n",
              "              <dt>Master</dt>\n",
              "                <dd><code>local[*]</code></dd>\n",
              "              <dt>AppName</dt>\n",
              "                <dd><code>pyspark-shell</code></dd>\n",
              "            </dl>\n",
              "        </div>\n",
              "        \n",
              "            </div>\n",
              "        "
            ],
            "text/plain": [
              "<pyspark.sql.session.SparkSession at 0x7f99ebc9ec50>"
            ]
          },
          "metadata": {
            "tags": []
          },
          "execution_count": 2
        }
      ]
    },
    {
      "cell_type": "markdown",
      "metadata": {
        "id": "QRbUweoVAF0U"
      },
      "source": [
        "# **Import Boston Housing dataset CSV File from Github**"
      ]
    },
    {
      "cell_type": "code",
      "metadata": {
        "colab": {
          "base_uri": "https://localhost:8080/"
        },
        "id": "XEjBhdFd_n1a",
        "outputId": "e30a850a-b5e3-40b7-8442-f095c7b3806b"
      },
      "source": [
        "!wget https://raw.githubusercontent.com/beccycole/BigDataProject2021/main/Boston.csv"
      ],
      "execution_count": null,
      "outputs": [
        {
          "output_type": "stream",
          "text": [
            "--2021-04-24 08:19:11--  https://raw.githubusercontent.com/beccycole/BigDataProject2021/main/Boston.csv\n",
            "Resolving raw.githubusercontent.com (raw.githubusercontent.com)... 185.199.108.133, 185.199.109.133, 185.199.110.133, ...\n",
            "Connecting to raw.githubusercontent.com (raw.githubusercontent.com)|185.199.108.133|:443... connected.\n",
            "HTTP request sent, awaiting response... 200 OK\n",
            "Length: 37123 (36K) [text/plain]\n",
            "Saving to: ‘Boston.csv’\n",
            "\n",
            "\rBoston.csv            0%[                    ]       0  --.-KB/s               \rBoston.csv          100%[===================>]  36.25K  --.-KB/s    in 0.001s  \n",
            "\n",
            "2021-04-24 08:19:11 (25.4 MB/s) - ‘Boston.csv’ saved [37123/37123]\n",
            "\n"
          ],
          "name": "stdout"
        }
      ]
    },
    {
      "cell_type": "code",
      "metadata": {
        "colab": {
          "base_uri": "https://localhost:8080/"
        },
        "id": "AWq9gTh7HXH_",
        "outputId": "e34ce3e5-c524-4d27-a6ca-f575ef20df81"
      },
      "source": [
        "!ls"
      ],
      "execution_count": null,
      "outputs": [
        {
          "output_type": "stream",
          "text": [
            "Boston.csv   spark-3.0.2-bin-hadoop2.7\n",
            "sample_data  spark-3.0.2-bin-hadoop2.7.tgz\n"
          ],
          "name": "stdout"
        }
      ]
    },
    {
      "cell_type": "markdown",
      "metadata": {
        "id": "edg49yrfBjhO"
      },
      "source": [
        "## **Load Data into Spark Dataframe**"
      ]
    },
    {
      "cell_type": "code",
      "metadata": {
        "colab": {
          "base_uri": "https://localhost:8080/"
        },
        "id": "XvxXqFXuHYQe",
        "outputId": "5f489f50-2694-4ea0-d4ef-58bd2d252a1d"
      },
      "source": [
        "# read the csv and load into a Spark dataframe using inferSchema parameter to automatically determine the data type for each column\n",
        "df2 = spark.read.csv(\"Boston.csv\", header=True, inferSchema=True)\n",
        "\n",
        "# display first 6 rows\n",
        "df2.show(6, truncate=False)"
      ],
      "execution_count": null,
      "outputs": [
        {
          "output_type": "stream",
          "text": [
            "+---+-------+----+-----+----+-----+-----+----+------+---+---+-------+------+-----+----+\n",
            "|_c0|crim   |zn  |indus|chas|nox  |rm   |age |dis   |rad|tax|ptratio|black |lstat|medv|\n",
            "+---+-------+----+-----+----+-----+-----+----+------+---+---+-------+------+-----+----+\n",
            "|1  |0.00632|18.0|2.31 |0   |0.538|6.575|65.2|4.09  |1  |296|15.3   |396.9 |4.98 |24.0|\n",
            "|2  |0.02731|0.0 |7.07 |0   |0.469|6.421|78.9|4.9671|2  |242|17.8   |396.9 |9.14 |21.6|\n",
            "|3  |0.02729|0.0 |7.07 |0   |0.469|7.185|61.1|4.9671|2  |242|17.8   |392.83|4.03 |34.7|\n",
            "|4  |0.03237|0.0 |2.18 |0   |0.458|6.998|45.8|6.0622|3  |222|18.7   |394.63|2.94 |33.4|\n",
            "|5  |0.06905|0.0 |2.18 |0   |0.458|7.147|54.2|6.0622|3  |222|18.7   |396.9 |5.33 |36.2|\n",
            "|6  |0.02985|0.0 |2.18 |0   |0.458|6.43 |58.7|6.0622|3  |222|18.7   |394.12|5.21 |28.7|\n",
            "+---+-------+----+-----+----+-----+-----+----+------+---+---+-------+------+-----+----+\n",
            "only showing top 6 rows\n",
            "\n"
          ],
          "name": "stdout"
        }
      ]
    },
    {
      "cell_type": "markdown",
      "metadata": {
        "id": "XEVBB6LqCD_O"
      },
      "source": [
        "## **Exploratory Data Analysis**"
      ]
    },
    {
      "cell_type": "code",
      "metadata": {
        "colab": {
          "base_uri": "https://localhost:8080/"
        },
        "id": "UFVwq2gPHfr2",
        "outputId": "c2587caf-1e56-4a67-ccc5-d9232cb92281"
      },
      "source": [
        "# print schema to check data types have been brought in correctly\n",
        "df2.printSchema()"
      ],
      "execution_count": null,
      "outputs": [
        {
          "output_type": "stream",
          "text": [
            "root\n",
            " |-- _c0: integer (nullable = true)\n",
            " |-- crim: double (nullable = true)\n",
            " |-- zn: double (nullable = true)\n",
            " |-- indus: double (nullable = true)\n",
            " |-- chas: integer (nullable = true)\n",
            " |-- nox: double (nullable = true)\n",
            " |-- rm: double (nullable = true)\n",
            " |-- age: double (nullable = true)\n",
            " |-- dis: double (nullable = true)\n",
            " |-- rad: integer (nullable = true)\n",
            " |-- tax: integer (nullable = true)\n",
            " |-- ptratio: double (nullable = true)\n",
            " |-- black: double (nullable = true)\n",
            " |-- lstat: double (nullable = true)\n",
            " |-- medv: double (nullable = true)\n",
            "\n"
          ],
          "name": "stdout"
        }
      ]
    },
    {
      "cell_type": "markdown",
      "metadata": {
        "id": "FAxUZz7uCWO1"
      },
      "source": [
        "It can be seen from the Schema that all datatypes have been brought in correctly. All datatypes are numeric which is what is required for machine learning models."
      ]
    },
    {
      "cell_type": "code",
      "metadata": {
        "colab": {
          "base_uri": "https://localhost:8080/"
        },
        "id": "-cQ8FqWcI8_1",
        "outputId": "ecdc17f6-c402-4053-b885-7213213fb4a2"
      },
      "source": [
        "# display the number of rows\n",
        "df2.count()"
      ],
      "execution_count": null,
      "outputs": [
        {
          "output_type": "execute_result",
          "data": {
            "text/plain": [
              "506"
            ]
          },
          "metadata": {
            "tags": []
          },
          "execution_count": 7
        }
      ]
    },
    {
      "cell_type": "markdown",
      "metadata": {
        "id": "S1buLPKDCshz"
      },
      "source": [
        "There are 506 rows in the dataset."
      ]
    },
    {
      "cell_type": "code",
      "metadata": {
        "colab": {
          "base_uri": "https://localhost:8080/"
        },
        "id": "U2nxH9LcCwXt",
        "outputId": "c1868563-5106-4571-e6a4-42396fa497f5"
      },
      "source": [
        "# display the column names\n",
        "df2.columns"
      ],
      "execution_count": null,
      "outputs": [
        {
          "output_type": "execute_result",
          "data": {
            "text/plain": [
              "['_c0',\n",
              " 'crim',\n",
              " 'zn',\n",
              " 'indus',\n",
              " 'chas',\n",
              " 'nox',\n",
              " 'rm',\n",
              " 'age',\n",
              " 'dis',\n",
              " 'rad',\n",
              " 'tax',\n",
              " 'ptratio',\n",
              " 'black',\n",
              " 'lstat',\n",
              " 'medv']"
            ]
          },
          "metadata": {
            "tags": []
          },
          "execution_count": 8
        }
      ]
    },
    {
      "cell_type": "markdown",
      "metadata": {
        "id": "aA86CnRfDBxE"
      },
      "source": [
        "There are 15 columns - ID column, 13 input variables and 1 output variable."
      ]
    },
    {
      "cell_type": "code",
      "metadata": {
        "colab": {
          "base_uri": "https://localhost:8080/"
        },
        "id": "4KzuwO6RDs5b",
        "outputId": "802337cc-3ccd-443c-a249-9eeabb3ae82d"
      },
      "source": [
        "# rename column names and create a new Spark dataframe\n",
        "df3 = df2.withColumnRenamed(\"_c0\", \"ID\") \\\n",
        "    .withColumnRenamed(\"crim\",\"crime_rate\") \\\n",
        "    .withColumnRenamed(\"zn\",\"large_zones\") \\\n",
        "    .withColumnRenamed(\"indus\",\"industrial\") \\\n",
        "    .withColumnRenamed(\"chas\",\"charles_river\") \\\n",
        "    .withColumnRenamed(\"nox\",\"nitric_oxide\") \\\n",
        "    .withColumnRenamed(\"rm\",\"rooms\") \\\n",
        "    .withColumnRenamed(\"age\",\"age\") \\\n",
        "    .withColumnRenamed(\"dis\",\"distance_employ\") \\\n",
        "    .withColumnRenamed(\"rad\",\"highway_access\") \\\n",
        "    .withColumnRenamed(\"tax\",\"property_tax\") \\\n",
        "    .withColumnRenamed(\"ptratio\",\"pupil_teacher_ratio\") \\\n",
        "    .withColumnRenamed(\"black\",\"black\") \\\n",
        "    .withColumnRenamed(\"lstat\",\"lower_status\") \\\n",
        "    .withColumnRenamed(\"medv\",\"house_price\")\n",
        "\n",
        "df3.printSchema()"
      ],
      "execution_count": null,
      "outputs": [
        {
          "output_type": "stream",
          "text": [
            "root\n",
            " |-- ID: integer (nullable = true)\n",
            " |-- crime_rate: double (nullable = true)\n",
            " |-- large_zones: double (nullable = true)\n",
            " |-- industrial: double (nullable = true)\n",
            " |-- charles_river: integer (nullable = true)\n",
            " |-- nitric_oxide: double (nullable = true)\n",
            " |-- rooms: double (nullable = true)\n",
            " |-- age: double (nullable = true)\n",
            " |-- distance_employ: double (nullable = true)\n",
            " |-- highway_access: integer (nullable = true)\n",
            " |-- property_tax: integer (nullable = true)\n",
            " |-- pupil_teacher_ratio: double (nullable = true)\n",
            " |-- black: double (nullable = true)\n",
            " |-- lower_status: double (nullable = true)\n",
            " |-- house_price: double (nullable = true)\n",
            "\n"
          ],
          "name": "stdout"
        }
      ]
    },
    {
      "cell_type": "code",
      "metadata": {
        "colab": {
          "base_uri": "https://localhost:8080/"
        },
        "id": "PmFGQs9wJAkt",
        "outputId": "cfed3c2d-9887-4877-b458-3328937ec3f0"
      },
      "source": [
        "# check for missing values\n",
        "from pyspark.sql import functions as F\n",
        "\n",
        "df3.select([F.count(F.when(F.isnull(c), c)).alias(c) for c in df3.columns]).show()"
      ],
      "execution_count": null,
      "outputs": [
        {
          "output_type": "stream",
          "text": [
            "+---+----------+-----------+----------+-------------+------------+-----+---+---------------+--------------+------------+-------------------+-----+------------+-----------+\n",
            "| ID|crime_rate|large_zones|industrial|charles_river|nitric_oxide|rooms|age|distance_employ|highway_access|property_tax|pupil_teacher_ratio|black|lower_status|house_price|\n",
            "+---+----------+-----------+----------+-------------+------------+-----+---+---------------+--------------+------------+-------------------+-----+------------+-----------+\n",
            "|  0|         0|          0|         0|            0|           0|    0|  0|              0|             0|           0|                  0|    0|           0|          0|\n",
            "+---+----------+-----------+----------+-------------+------------+-----+---+---------------+--------------+------------+-------------------+-----+------------+-----------+\n",
            "\n"
          ],
          "name": "stdout"
        }
      ]
    },
    {
      "cell_type": "markdown",
      "metadata": {
        "id": "isZD7H-x569d"
      },
      "source": [
        "There are no missing values in the dataset."
      ]
    },
    {
      "cell_type": "markdown",
      "metadata": {
        "id": "Q1wzSt6N-f1W"
      },
      "source": [
        "### Create Queries on the Dataset"
      ]
    },
    {
      "cell_type": "code",
      "metadata": {
        "colab": {
          "base_uri": "https://localhost:8080/"
        },
        "id": "AvRIQxP3-mpC",
        "outputId": "2f9416d1-61b8-4405-c6ea-338c19257b04"
      },
      "source": [
        "# select rooms and medv columns and display the results\n",
        "df3.select('rooms', 'house_price').show(10)"
      ],
      "execution_count": null,
      "outputs": [
        {
          "output_type": "stream",
          "text": [
            "+-----+-----------+\n",
            "|rooms|house_price|\n",
            "+-----+-----------+\n",
            "|6.575|       24.0|\n",
            "|6.421|       21.6|\n",
            "|7.185|       34.7|\n",
            "|6.998|       33.4|\n",
            "|7.147|       36.2|\n",
            "| 6.43|       28.7|\n",
            "|6.012|       22.9|\n",
            "|6.172|       27.1|\n",
            "|5.631|       16.5|\n",
            "|6.004|       18.9|\n",
            "+-----+-----------+\n",
            "only showing top 10 rows\n",
            "\n"
          ],
          "name": "stdout"
        }
      ]
    },
    {
      "cell_type": "code",
      "metadata": {
        "colab": {
          "base_uri": "https://localhost:8080/"
        },
        "id": "Hq4NamF0-m2h",
        "outputId": "e66ac7f7-fc35-474f-c776-33a080f2a4d3"
      },
      "source": [
        "# groupby charles_river and count how many house in the dataset are by the charles_river and how many are not\n",
        "df3.groupBy(\"charles_river\").count().sort(\"charles_river\",ascending=False).show()"
      ],
      "execution_count": null,
      "outputs": [
        {
          "output_type": "stream",
          "text": [
            "+-------------+-----+\n",
            "|charles_river|count|\n",
            "+-------------+-----+\n",
            "|            1|   35|\n",
            "|            0|  471|\n",
            "+-------------+-----+\n",
            "\n"
          ],
          "name": "stdout"
        }
      ]
    },
    {
      "cell_type": "code",
      "metadata": {
        "colab": {
          "base_uri": "https://localhost:8080/"
        },
        "id": "Cp6os7PIBBjM",
        "outputId": "eff3709d-f94e-4540-8273-9e723618d4c4"
      },
      "source": [
        "# group and count by house_price\n",
        "df3.groupBy(\"house_price\").count().sort(\"house_price\",ascending=False).show(10)"
      ],
      "execution_count": null,
      "outputs": [
        {
          "output_type": "stream",
          "text": [
            "+-----------+-----+\n",
            "|house_price|count|\n",
            "+-----------+-----+\n",
            "|       50.0|   16|\n",
            "|       48.8|    1|\n",
            "|       48.5|    1|\n",
            "|       48.3|    1|\n",
            "|       46.7|    1|\n",
            "|       46.0|    1|\n",
            "|       45.4|    1|\n",
            "|       44.8|    1|\n",
            "|       44.0|    1|\n",
            "|       43.8|    1|\n",
            "+-----------+-----+\n",
            "only showing top 10 rows\n",
            "\n"
          ],
          "name": "stdout"
        }
      ]
    },
    {
      "cell_type": "markdown",
      "metadata": {
        "id": "L_K0hTg_Ii_T"
      },
      "source": [
        "# **Visualising the Data**\n",
        "The raw descriptive statistics displayed above give all the relevant information on each of the variables in the dataset, however using visual tools such as histograms, boxplots and scatterplots make it easier to visualise the distribution and relationships of the variables."
      ]
    },
    {
      "cell_type": "markdown",
      "metadata": {
        "id": "20j4xq9YQ490"
      },
      "source": [
        "## **Output Variable - House Price**\n",
        "Using the Python libraries Matplotlib and Seaborn, the distribution of the output variable 'house_price' will be visualised using the histogram and boxplot functions."
      ]
    },
    {
      "cell_type": "code",
      "metadata": {
        "colab": {
          "base_uri": "https://localhost:8080/"
        },
        "id": "SMO07bkpIrsy",
        "outputId": "eb7f0467-7b9a-48c8-8bd4-47737092b3d5"
      },
      "source": [
        "# import python library for plotting\n",
        "import matplotlib.pyplot as plt\n",
        "\n",
        "# import pandas\n",
        "import pandas as pd\n",
        "\n",
        "%matplotlib inline\n",
        "\n",
        "# convert the spark dataframe to a pandas dataframe for visualisation purposes\n",
        "pandas_df = df3.toPandas()\n",
        "\n",
        "print(pandas_df)"
      ],
      "execution_count": null,
      "outputs": [
        {
          "output_type": "stream",
          "text": [
            "      ID  crime_rate  large_zones  ...   black  lower_status  house_price\n",
            "0      1     0.00632         18.0  ...  396.90          4.98         24.0\n",
            "1      2     0.02731          0.0  ...  396.90          9.14         21.6\n",
            "2      3     0.02729          0.0  ...  392.83          4.03         34.7\n",
            "3      4     0.03237          0.0  ...  394.63          2.94         33.4\n",
            "4      5     0.06905          0.0  ...  396.90          5.33         36.2\n",
            "..   ...         ...          ...  ...     ...           ...          ...\n",
            "501  502     0.06263          0.0  ...  391.99          9.67         22.4\n",
            "502  503     0.04527          0.0  ...  396.90          9.08         20.6\n",
            "503  504     0.06076          0.0  ...  396.90          5.64         23.9\n",
            "504  505     0.10959          0.0  ...  393.45          6.48         22.0\n",
            "505  506     0.04741          0.0  ...  396.90          7.88         11.9\n",
            "\n",
            "[506 rows x 15 columns]\n"
          ],
          "name": "stdout"
        }
      ]
    },
    {
      "cell_type": "code",
      "metadata": {
        "colab": {
          "base_uri": "https://localhost:8080/",
          "height": 282
        },
        "id": "v7PSLdi5Lh5U",
        "outputId": "0d4e962a-7c84-4b15-df47-b8290f688cdf"
      },
      "source": [
        "# create a histogram on the output variable 'house_price'\n",
        "plt.hist(pandas_df['house_price'])\n",
        "\n",
        "# set the name of the x-axis\n",
        "plt.xlabel(\"house_price\")\n",
        "\n",
        "# set the name of the y-axis\n",
        "plt.ylabel(\"Frequency\")\n",
        "\n",
        "# plot the histogram\n",
        "plt.show()"
      ],
      "execution_count": null,
      "outputs": [
        {
          "output_type": "display_data",
          "data": {
            "image/png": "[encoded data removed]",
            "text/plain": [
              "<Figure size 432x288 with 1 Axes>"
            ]
          },
          "metadata": {
            "tags": [],
            "needs_background": "light"
          }
        }
      ]
    },
    {
      "cell_type": "code",
      "metadata": {
        "colab": {
          "base_uri": "https://localhost:8080/",
          "height": 297
        },
        "id": "97z2PRDvQP3u",
        "outputId": "30387b16-f911-4df5-dbe4-5d1cef938f2a"
      },
      "source": [
        "# import plotting library seaborn\n",
        "import seaborn as sns\n",
        "\n",
        "# create a boxplot on variable 'house_price'\n",
        "plt.figure(figsize=(8,3))\n",
        "sns.boxplot(pandas_df['house_price'])"
      ],
      "execution_count": null,
      "outputs": [
        {
          "output_type": "stream",
          "text": [
            "/usr/local/lib/python3.7/dist-packages/seaborn/_decorators.py:43: FutureWarning: Pass the following variable as a keyword arg: x. From version 0.12, the only valid positional argument will be `data`, and passing other arguments without an explicit keyword will result in an error or misinterpretation.\n",
            "  FutureWarning\n"
          ],
          "name": "stderr"
        },
        {
          "output_type": "execute_result",
          "data": {
            "text/plain": [
              "<matplotlib.axes._subplots.AxesSubplot at 0x7f99ddb60ed0>"
            ]
          },
          "metadata": {
            "tags": []
          },
          "execution_count": 20
        },
        {
          "output_type": "display_data",
          "data": {
            "image/png": "[encoded data removed]",
            "text/plain": [
              "<Figure size 576x216 with 1 Axes>"
            ]
          },
          "metadata": {
            "tags": [],
            "needs_background": "light"
          }
        }
      ]
    },
    {
      "cell_type": "markdown",
      "metadata": {
        "id": "DvsGvABDP366"
      },
      "source": [
        "It can seen from the histogram that the distribution of house_price is slightly skewed right with several outliers. This shows it is not normally distributed around the mean, but distributed slightly below the mean. The values are centred around 22,000, the minimum value is 5,000 and the maximum value is 50,000.\n",
        "\n",
        "The boxplot shows a symmetric distribution with one outlier to the left and several to the right. The range of the distribution is 45,000."
      ]
    },
    {
      "cell_type": "markdown",
      "metadata": {
        "id": "SBxKzmfnRKK8"
      },
      "source": [
        "## **Input Variables**\n",
        "The scatter plot function from the Python library Matplotlib will be used to visualise the distribution of the data for the input variables. This will determine which input variables have a linear relationship with the output variable - the initial judgment of possible relationships between two continuous variables is often made on the basis of a scatter plot. Only the scatter plots that show a linear relationship with the output variable will be showed in this notebook."
      ]
    },
    {
      "cell_type": "code",
      "metadata": {
        "colab": {
          "base_uri": "https://localhost:8080/",
          "height": 315
        },
        "id": "kklBTHUmL7Mh",
        "outputId": "eeee8487-d17e-47d4-b6d2-613abcc3bef7"
      },
      "source": [
        "# set plot size\n",
        "plt.figure(figsize=(20, 20))\n",
        "\n",
        "# assign variables \n",
        "features = ['lower_status', 'rooms']\n",
        "target = pandas_df['house_price']\n",
        "\n",
        "# plot each feature with target variable\n",
        "for i, col in enumerate(features):\n",
        "    plt.subplot(4, len(features) , i+1)\n",
        "    x = pandas_df[col]\n",
        "    y = target\n",
        "    plt.scatter(x, y, marker='o')\n",
        "    plt.title(col)\n",
        "    plt.xlabel(col)\n",
        "    plt.ylabel('house_price')"
      ],
      "execution_count": null,
      "outputs": [
        {
          "output_type": "display_data",
          "data": {
            "image/png": "[encoded data removed]",
            "text/plain": [
              "<Figure size 1440x1440 with 2 Axes>"
            ]
          },
          "metadata": {
            "tags": [],
            "needs_background": "light"
          }
        }
      ]
    },
    {
      "cell_type": "markdown",
      "metadata": {
        "id": "WdJhe96gYl8A"
      },
      "source": [
        "In conclusion the input variables lower_status and rooms have a linear relationship with the output variable house_price."
      ]
    },
    {
      "cell_type": "markdown",
      "metadata": {
        "id": "fCbNWy3OFY4f"
      },
      "source": [
        "# **Descriptive Statistics**\n",
        "The decribe method is a Spark statistical operation to return descriptive statistics on columns in the Spark dataframe. The statistical metrics that are available include maximum, minimum, mean, variance, number of non-zeros, and count.\n"
      ]
    },
    {
      "cell_type": "code",
      "metadata": {
        "colab": {
          "base_uri": "https://localhost:8080/",
          "height": 179
        },
        "id": "JgUwlgaVFyJ9",
        "outputId": "9c4d76b4-da83-4e17-87ab-f3944652a4ee"
      },
      "source": [
        "# use describe method on all variables in the Boston Housing dataset\n",
        "display(df3.describe())\n"
      ],
      "execution_count": null,
      "outputs": [
        {
          "output_type": "display_data",
          "data": {
            "text/html": [
              "<table border='1'>\n",
              "<tr><th>summary</th><th>ID</th><th>crime_rate</th><th>large_zones</th><th>industrial</th><th>charles_river</th><th>nitric_oxide</th><th>rooms</th><th>age</th><th>distance_employ</th><th>highway_access</th><th>property_tax</th><th>pupil_teacher_ratio</th><th>black</th><th>lower_status</th><th>house_price</th></tr>\n",
              "<tr><td>count</td><td>506</td><td>506</td><td>506</td><td>506</td><td>506</td><td>506</td><td>506</td><td>506</td><td>506</td><td>506</td><td>506</td><td>506</td><td>506</td><td>506</td><td>506</td></tr>\n",
              "<tr><td>mean</td><td>253.5</td><td>3.6135235573122535</td><td>11.363636363636363</td><td>11.136778656126504</td><td>0.0691699604743083</td><td>0.5546950592885372</td><td>6.284634387351787</td><td>68.57490118577078</td><td>3.795042687747034</td><td>9.549407114624506</td><td>408.2371541501976</td><td>18.455533596837967</td><td>356.67403162055257</td><td>12.653063241106723</td><td>22.532806324110698</td></tr>\n",
              "<tr><td>stddev</td><td>146.2138844296259</td><td>8.601545105332491</td><td>23.32245299451514</td><td>6.860352940897589</td><td>0.2539940413404101</td><td>0.11587767566755584</td><td>0.7026171434153232</td><td>28.148861406903595</td><td>2.10571012662761</td><td>8.707259384239366</td><td>168.53711605495903</td><td>2.1649455237144455</td><td>91.29486438415782</td><td>7.141061511348571</td><td>9.197104087379815</td></tr>\n",
              "<tr><td>min</td><td>1</td><td>0.00632</td><td>0.0</td><td>0.46</td><td>0</td><td>0.385</td><td>3.561</td><td>2.9</td><td>1.1296</td><td>1</td><td>187</td><td>12.6</td><td>0.32</td><td>1.73</td><td>5.0</td></tr>\n",
              "<tr><td>max</td><td>506</td><td>88.9762</td><td>100.0</td><td>27.74</td><td>1</td><td>0.871</td><td>8.78</td><td>100.0</td><td>12.1265</td><td>24</td><td>711</td><td>22.0</td><td>396.9</td><td>37.97</td><td>50.0</td></tr>\n",
              "</table>\n"
            ],
            "text/plain": [
              "+-------+-----------------+------------------+------------------+------------------+------------------+-------------------+------------------+------------------+-----------------+-----------------+------------------+-------------------+------------------+------------------+------------------+\n",
              "|summary|               ID|        crime_rate|       large_zones|        industrial|     charles_river|       nitric_oxide|             rooms|               age|  distance_employ|   highway_access|      property_tax|pupil_teacher_ratio|             black|      lower_status|       house_price|\n",
              "+-------+-----------------+------------------+------------------+------------------+------------------+-------------------+------------------+------------------+-----------------+-----------------+------------------+-------------------+------------------+------------------+------------------+\n",
              "|  count|              506|               506|               506|               506|               506|                506|               506|               506|              506|              506|               506|                506|               506|               506|               506|\n",
              "|   mean|            253.5|3.6135235573122535|11.363636363636363|11.136778656126504|0.0691699604743083| 0.5546950592885372| 6.284634387351787| 68.57490118577078|3.795042687747034|9.549407114624506| 408.2371541501976| 18.455533596837967|356.67403162055257|12.653063241106723|22.532806324110698|\n",
              "| stddev|146.2138844296259| 8.601545105332491| 23.32245299451514| 6.860352940897589|0.2539940413404101|0.11587767566755584|0.7026171434153232|28.148861406903595| 2.10571012662761|8.707259384239366|168.53711605495903| 2.1649455237144455| 91.29486438415782| 7.141061511348571| 9.197104087379815|\n",
              "|    min|                1|           0.00632|               0.0|              0.46|                 0|              0.385|             3.561|               2.9|           1.1296|                1|               187|               12.6|              0.32|              1.73|               5.0|\n",
              "|    max|              506|           88.9762|             100.0|             27.74|                 1|              0.871|              8.78|             100.0|          12.1265|               24|               711|               22.0|             396.9|             37.97|              50.0|\n",
              "+-------+-----------------+------------------+------------------+------------------+------------------+-------------------+------------------+------------------+-----------------+-----------------+------------------+-------------------+------------------+------------------+------------------+"
            ]
          },
          "metadata": {
            "tags": []
          }
        }
      ]
    },
    {
      "cell_type": "code",
      "metadata": {
        "colab": {
          "base_uri": "https://localhost:8080/",
          "height": 159
        },
        "id": "JPk1iNheOp5U",
        "outputId": "58558a14-920e-47f5-8bbb-aa612ac65dc5"
      },
      "source": [
        "# use describe method on a single variable - house_price\n",
        "display(df3.select(\"house_price\").describe())"
      ],
      "execution_count": null,
      "outputs": [
        {
          "output_type": "display_data",
          "data": {
            "text/html": [
              "<table border='1'>\n",
              "<tr><th>summary</th><th>house_price</th></tr>\n",
              "<tr><td>count</td><td>506</td></tr>\n",
              "<tr><td>mean</td><td>22.532806324110698</td></tr>\n",
              "<tr><td>stddev</td><td>9.197104087379815</td></tr>\n",
              "<tr><td>min</td><td>5.0</td></tr>\n",
              "<tr><td>max</td><td>50.0</td></tr>\n",
              "</table>\n"
            ],
            "text/plain": [
              "+-------+------------------+\n",
              "|summary|       house_price|\n",
              "+-------+------------------+\n",
              "|  count|               506|\n",
              "|   mean|22.532806324110698|\n",
              "| stddev| 9.197104087379815|\n",
              "|    min|               5.0|\n",
              "|    max|              50.0|\n",
              "+-------+------------------+"
            ]
          },
          "metadata": {
            "tags": []
          }
        }
      ]
    },
    {
      "cell_type": "markdown",
      "metadata": {
        "id": "RXCFWDMRY7DJ"
      },
      "source": [
        "# **Correlation**\n",
        "Correlation measures the statistical relationship between two continuous independent variables. It gives information about the magnitude of the correlation as well as the direction of the relationship.\n",
        "\n",
        "Three widely used correlation statistics are the Pearson correlation, Kendall rank correlation and Spearman correlation. For this project the Spearman correlation will be used to measure the relationship between variables as the variables are not normally distributed and there are some outliers.\n",
        "\n",
        "The output of the correlation function will fall within the range - 1 to + 1 and can be analysed as follows:\n",
        "\n",
        "* Perfect correlation exists if the value is near to ± 1: as one variable \n",
        "increases, the other variable tends to increase (if positive) or decrease (if negative).\n",
        "* A strong correlation exists if the coefficient value lies between ± 0.50 and ± 1.\n",
        "* A medium correlation exists if the value lies between ± 0.30 and ± 0.49.\n",
        "* A small correlation exists if the value lies below + 0.29.\n",
        "* No correlation exists when the value is zero.\n",
        "\n",
        "The Spearman function fron Spark MLlib will be used to identify variables where a strong correlation exists (greater than 0.5), between the input variables and the output variable house_price.\n"
      ]
    },
    {
      "cell_type": "code",
      "metadata": {
        "colab": {
          "base_uri": "https://localhost:8080/"
        },
        "id": "x7c7kw6wL7ca",
        "outputId": "64b903ad-827b-47d7-db5d-a2bac9ca2e18"
      },
      "source": [
        "from pyspark.ml.linalg import Vectors\n",
        "from pyspark.ml.stat import Correlation\n",
        "from pyspark.ml.feature import VectorAssembler\n",
        "from pyspark.ml.stat import Summarizer\n",
        "\n",
        "# input all the features in one vector column\n",
        "assembler = VectorAssembler(inputCols=['crime_rate', 'rooms', 'age', 'distance_employ', 'highway_access',\n",
        "       'property_tax', 'pupil_teacher_ratio', 'lower_status', 'house_price'], outputCol = 'features')\n",
        "\n",
        "assembled = assembler.transform(df3)\n",
        "\n",
        "# to select the features and house_price column only\n",
        "#vector_data = output.select(\"features\",\"house_price\")\n",
        "\n",
        "#vector_data.show()\n",
        "\n",
        "# use the correlation method spearman on the boson housing dataset\n",
        "spearman_corr = Correlation.corr(assembled, 'features', 'spearman')\n",
        "\n",
        "corr_list = spearman_corr.head()[0].toArray().tolist()\n",
        "spearman_corr_df = spark.createDataFrame(corr_list)\n",
        "spearman_corr_df.show(truncate=False)\n"
      ],
      "execution_count": null,
      "outputs": [
        {
          "output_type": "stream",
          "text": [
            "+--------------------+--------------------+-------------------+--------------------+--------------------+-------------------+--------------------+-------------------+-------------------+\n",
            "|_1                  |_2                  |_3                 |_4                  |_5                  |_6                 |_7                  |_8                 |_9                 |\n",
            "+--------------------+--------------------+-------------------+--------------------+--------------------+-------------------+--------------------+-------------------+-------------------+\n",
            "|1.0                 |-0.30911647087458266|0.7041399841460588 |-0.7449861410662116 |0.7278069679393689  |0.7290448989667168 |0.46528318902806937 |0.6347602625178879 |-0.5588909488368805|\n",
            "|-0.30911647087458266|1.0                 |-0.2780820199539358|0.26316822499481807 |-0.1074921975191981 |-0.2718984579208374|-0.3129225741853121 |-0.6408315569796796|0.6335764254337742 |\n",
            "|0.7041399841460588  |-0.2780820199539358 |1.0                |-0.8016097949244992 |0.417982612728582   |0.5263664437266887 |0.35538428214891016 |0.6570707854535852 |-0.5475616874543455|\n",
            "|-0.7449861410662116 |0.26316822499481807 |-0.8016097949244992|1.0                 |-0.49580646606049694|-0.574336409453676 |-0.32204056038369233|-0.5642621910462321|0.4458568541441569 |\n",
            "|0.7278069679393689  |-0.1074921975191981 |0.417982612728582  |-0.49580646606049694|1.0                 |0.7048757244922311 |0.3183296556925318  |0.3943224496548502 |-0.3467762570566867|\n",
            "|0.7290448989667168  |-0.2718984579208374 |0.5263664437266887 |-0.574336409453676  |0.7048757244922311  |1.0                |0.45334545978767604 |0.5344231914555732 |-0.562410626373713 |\n",
            "|0.46528318902806937 |-0.3129225741853121 |0.35538428214891016|-0.32204056038369233|0.3183296556925318  |0.45334545978767604|1.0                 |0.4672588453434924 |-0.5559046822691179|\n",
            "|0.6347602625178879  |-0.6408315569796796 |0.6570707854535852 |-0.5642621910462321 |0.3943224496548502  |0.5344231914555732 |0.4672588453434924  |1.0                |-0.8529141394922161|\n",
            "|-0.5588909488368805 |0.6335764254337742  |-0.5475616874543455|0.4458568541441569  |-0.3467762570566867 |-0.562410626373713 |-0.5559046822691179 |-0.8529141394922161|1.0                |\n",
            "+--------------------+--------------------+-------------------+--------------------+--------------------+-------------------+--------------------+-------------------+-------------------+\n",
            "\n"
          ],
          "name": "stdout"
        }
      ]
    },
    {
      "cell_type": "markdown",
      "metadata": {
        "id": "A4cuVF8-95bc"
      },
      "source": [
        "This table is not very clear as the columns are not labelled. Another way is to display the results in a clearer indexed and labelled dataframe as shown below."
      ]
    },
    {
      "cell_type": "code",
      "metadata": {
        "colab": {
          "base_uri": "https://localhost:8080/"
        },
        "id": "zQtnV33qRCUF",
        "outputId": "77076b40-7970-4b75-d405-ab3886f4b61a"
      },
      "source": [
        "# print schema\n",
        "df3.printSchema()"
      ],
      "execution_count": null,
      "outputs": [
        {
          "output_type": "stream",
          "text": [
            "root\n",
            " |-- ID: integer (nullable = true)\n",
            " |-- crime_rate: double (nullable = true)\n",
            " |-- large_zones: double (nullable = true)\n",
            " |-- industrial: double (nullable = true)\n",
            " |-- charles_river: integer (nullable = true)\n",
            " |-- nitric_oxide: double (nullable = true)\n",
            " |-- rooms: double (nullable = true)\n",
            " |-- age: double (nullable = true)\n",
            " |-- distance_employ: double (nullable = true)\n",
            " |-- highway_access: integer (nullable = true)\n",
            " |-- property_tax: integer (nullable = true)\n",
            " |-- pupil_teacher_ratio: double (nullable = true)\n",
            " |-- black: double (nullable = true)\n",
            " |-- lower_status: double (nullable = true)\n",
            " |-- house_price: double (nullable = true)\n",
            "\n"
          ],
          "name": "stdout"
        }
      ]
    },
    {
      "cell_type": "code",
      "metadata": {
        "colab": {
          "base_uri": "https://localhost:8080/"
        },
        "id": "C8zh6G4nRXSc",
        "outputId": "7ab0c9d6-643d-4627-cc18-7656ee9497d7"
      },
      "source": [
        "# drop irrelevant columns from the dataframe\n",
        "df4 = df3.drop(\"ID\", \"large_zones\", \"industrial\", \"charles_river\", \"nitric_oxide\", \"black\")\n",
        "df4.show(6)"
      ],
      "execution_count": null,
      "outputs": [
        {
          "output_type": "stream",
          "text": [
            "+----------+-----+----+---------------+--------------+------------+-------------------+------------+-----------+\n",
            "|crime_rate|rooms| age|distance_employ|highway_access|property_tax|pupil_teacher_ratio|lower_status|house_price|\n",
            "+----------+-----+----+---------------+--------------+------------+-------------------+------------+-----------+\n",
            "|   0.00632|6.575|65.2|           4.09|             1|         296|               15.3|        4.98|       24.0|\n",
            "|   0.02731|6.421|78.9|         4.9671|             2|         242|               17.8|        9.14|       21.6|\n",
            "|   0.02729|7.185|61.1|         4.9671|             2|         242|               17.8|        4.03|       34.7|\n",
            "|   0.03237|6.998|45.8|         6.0622|             3|         222|               18.7|        2.94|       33.4|\n",
            "|   0.06905|7.147|54.2|         6.0622|             3|         222|               18.7|        5.33|       36.2|\n",
            "|   0.02985| 6.43|58.7|         6.0622|             3|         222|               18.7|        5.21|       28.7|\n",
            "+----------+-----+----+---------------+--------------+------------+-------------------+------------+-----------+\n",
            "only showing top 6 rows\n",
            "\n"
          ],
          "name": "stdout"
        }
      ]
    },
    {
      "cell_type": "code",
      "metadata": {
        "id": "PLUlYD5RfTU2",
        "colab": {
          "base_uri": "https://localhost:8080/",
          "height": 328
        },
        "outputId": "bd36c0c5-34e1-42d1-f867-78c89763f96b"
      },
      "source": [
        "from pyspark.ml.stat import Correlation\n",
        "\n",
        "spearman_corr = Correlation.corr(assembled, 'features', 'spearman').collect()[0][0]\n",
        "pandas_DF = pd.DataFrame(spearman_corr.toArray())\n",
        "\n",
        "# labels index and columns to interpret the results\n",
        "pandas_DF.index, pandas_DF.columns = df4.columns, df4.columns\n",
        "pandas_DF"
      ],
      "execution_count": null,
      "outputs": [
        {
          "output_type": "execute_result",
          "data": {
            "text/html": [
              "<div>\n",
              "<style scoped>\n",
              "    .dataframe tbody tr th:only-of-type {\n",
              "        vertical-align: middle;\n",
              "    }\n",
              "\n",
              "    .dataframe tbody tr th {\n",
              "        vertical-align: top;\n",
              "    }\n",
              "\n",
              "    .dataframe thead th {\n",
              "        text-align: right;\n",
              "    }\n",
              "</style>\n",
              "<table border=\"1\" class=\"dataframe\">\n",
              "  <thead>\n",
              "    <tr style=\"text-align: right;\">\n",
              "      <th></th>\n",
              "      <th>crime_rate</th>\n",
              "      <th>rooms</th>\n",
              "      <th>age</th>\n",
              "      <th>distance_employ</th>\n",
              "      <th>highway_access</th>\n",
              "      <th>property_tax</th>\n",
              "      <th>pupil_teacher_ratio</th>\n",
              "      <th>lower_status</th>\n",
              "      <th>house_price</th>\n",
              "    </tr>\n",
              "  </thead>\n",
              "  <tbody>\n",
              "    <tr>\n",
              "      <th>crime_rate</th>\n",
              "      <td>1.000000</td>\n",
              "      <td>-0.309116</td>\n",
              "      <td>0.704140</td>\n",
              "      <td>-0.744986</td>\n",
              "      <td>0.727807</td>\n",
              "      <td>0.729045</td>\n",
              "      <td>0.465283</td>\n",
              "      <td>0.634760</td>\n",
              "      <td>-0.558891</td>\n",
              "    </tr>\n",
              "    <tr>\n",
              "      <th>rooms</th>\n",
              "      <td>-0.309116</td>\n",
              "      <td>1.000000</td>\n",
              "      <td>-0.278082</td>\n",
              "      <td>0.263168</td>\n",
              "      <td>-0.107492</td>\n",
              "      <td>-0.271898</td>\n",
              "      <td>-0.312923</td>\n",
              "      <td>-0.640832</td>\n",
              "      <td>0.633576</td>\n",
              "    </tr>\n",
              "    <tr>\n",
              "      <th>age</th>\n",
              "      <td>0.704140</td>\n",
              "      <td>-0.278082</td>\n",
              "      <td>1.000000</td>\n",
              "      <td>-0.801610</td>\n",
              "      <td>0.417983</td>\n",
              "      <td>0.526366</td>\n",
              "      <td>0.355384</td>\n",
              "      <td>0.657071</td>\n",
              "      <td>-0.547562</td>\n",
              "    </tr>\n",
              "    <tr>\n",
              "      <th>distance_employ</th>\n",
              "      <td>-0.744986</td>\n",
              "      <td>0.263168</td>\n",
              "      <td>-0.801610</td>\n",
              "      <td>1.000000</td>\n",
              "      <td>-0.495806</td>\n",
              "      <td>-0.574336</td>\n",
              "      <td>-0.322041</td>\n",
              "      <td>-0.564262</td>\n",
              "      <td>0.445857</td>\n",
              "    </tr>\n",
              "    <tr>\n",
              "      <th>highway_access</th>\n",
              "      <td>0.727807</td>\n",
              "      <td>-0.107492</td>\n",
              "      <td>0.417983</td>\n",
              "      <td>-0.495806</td>\n",
              "      <td>1.000000</td>\n",
              "      <td>0.704876</td>\n",
              "      <td>0.318330</td>\n",
              "      <td>0.394322</td>\n",
              "      <td>-0.346776</td>\n",
              "    </tr>\n",
              "    <tr>\n",
              "      <th>property_tax</th>\n",
              "      <td>0.729045</td>\n",
              "      <td>-0.271898</td>\n",
              "      <td>0.526366</td>\n",
              "      <td>-0.574336</td>\n",
              "      <td>0.704876</td>\n",
              "      <td>1.000000</td>\n",
              "      <td>0.453345</td>\n",
              "      <td>0.534423</td>\n",
              "      <td>-0.562411</td>\n",
              "    </tr>\n",
              "    <tr>\n",
              "      <th>pupil_teacher_ratio</th>\n",
              "      <td>0.465283</td>\n",
              "      <td>-0.312923</td>\n",
              "      <td>0.355384</td>\n",
              "      <td>-0.322041</td>\n",
              "      <td>0.318330</td>\n",
              "      <td>0.453345</td>\n",
              "      <td>1.000000</td>\n",
              "      <td>0.467259</td>\n",
              "      <td>-0.555905</td>\n",
              "    </tr>\n",
              "    <tr>\n",
              "      <th>lower_status</th>\n",
              "      <td>0.634760</td>\n",
              "      <td>-0.640832</td>\n",
              "      <td>0.657071</td>\n",
              "      <td>-0.564262</td>\n",
              "      <td>0.394322</td>\n",
              "      <td>0.534423</td>\n",
              "      <td>0.467259</td>\n",
              "      <td>1.000000</td>\n",
              "      <td>-0.852914</td>\n",
              "    </tr>\n",
              "    <tr>\n",
              "      <th>house_price</th>\n",
              "      <td>-0.558891</td>\n",
              "      <td>0.633576</td>\n",
              "      <td>-0.547562</td>\n",
              "      <td>0.445857</td>\n",
              "      <td>-0.346776</td>\n",
              "      <td>-0.562411</td>\n",
              "      <td>-0.555905</td>\n",
              "      <td>-0.852914</td>\n",
              "      <td>1.000000</td>\n",
              "    </tr>\n",
              "  </tbody>\n",
              "</table>\n",
              "</div>"
            ],
            "text/plain": [
              "                     crime_rate     rooms  ...  lower_status  house_price\n",
              "crime_rate             1.000000 -0.309116  ...      0.634760    -0.558891\n",
              "rooms                 -0.309116  1.000000  ...     -0.640832     0.633576\n",
              "age                    0.704140 -0.278082  ...      0.657071    -0.547562\n",
              "distance_employ       -0.744986  0.263168  ...     -0.564262     0.445857\n",
              "highway_access         0.727807 -0.107492  ...      0.394322    -0.346776\n",
              "property_tax           0.729045 -0.271898  ...      0.534423    -0.562411\n",
              "pupil_teacher_ratio    0.465283 -0.312923  ...      0.467259    -0.555905\n",
              "lower_status           0.634760 -0.640832  ...      1.000000    -0.852914\n",
              "house_price           -0.558891  0.633576  ...     -0.852914     1.000000\n",
              "\n",
              "[9 rows x 9 columns]"
            ]
          },
          "metadata": {
            "tags": []
          },
          "execution_count": 36
        }
      ]
    },
    {
      "cell_type": "markdown",
      "metadata": {
        "id": "HkNIjSex8yWB"
      },
      "source": [
        "Rooms and lower_status are highly correlated to house_price with coefficients of 0.63 and 0.85 respectively. All other variables are not strongly correlated to house_price."
      ]
    },
    {
      "cell_type": "markdown",
      "metadata": {
        "id": "rsMnow4dL0mu"
      },
      "source": [
        "# **Machine Learning Model**\n",
        "\n",
        "Since the output house_price is a continuous variable a supervised linear regression model will be used for prediction.\n",
        "\n",
        "In a linear regression model there is a presumption that the input variables should have a linear relationship with the output variable. From the visualisations it was seen that rooms and lower_status had linear relationships with house_price. These two features will be used in the linear regression models.\n",
        "\n"
      ]
    },
    {
      "cell_type": "markdown",
      "metadata": {
        "id": "hbn1_73IbN8b"
      },
      "source": [
        "In linear algebra a vector is an array of numbers where each value is called a scaler. Vectors are critical for machine learning because machine learning algorithms use vectors as input data. Using Spark, the dataframe will be converted into DenseVectors of decimal places that can then be fed into the machine learning algorithms. To complete this transformation the VectorAssembler will be used to create one column of vectors."
      ]
    },
    {
      "cell_type": "markdown",
      "metadata": {
        "id": "Khbo1XKdB9_x"
      },
      "source": [
        "## Import modules from PySpark MLlib"
      ]
    },
    {
      "cell_type": "code",
      "metadata": {
        "id": "s0yIY5I_JI0s"
      },
      "source": [
        "# import VectorAssembler and LinearRegression modules from the PySpark API\n",
        "from pyspark.ml.feature import VectorAssembler\n",
        "from pyspark.ml.linalg import Vectors\n",
        "\n",
        "from pyspark.ml.feature import MinMaxScaler\n",
        "\n",
        "# import LinearRegression\n",
        "from pyspark.ml.regression import LinearRegression\n",
        "\n",
        "# import regression metrics for evaluation\n",
        "from pyspark.mllib.evaluation import RegressionMetrics\n"
      ],
      "execution_count": null,
      "outputs": []
    },
    {
      "cell_type": "markdown",
      "metadata": {
        "id": "CXCP4XXiCvSr"
      },
      "source": [
        "## Create one column vector"
      ]
    },
    {
      "cell_type": "code",
      "metadata": {
        "colab": {
          "base_uri": "https://localhost:8080/"
        },
        "id": "G_ZF5S3SJMIF",
        "outputId": "a7c52ed2-766c-4b15-b844-c49b352e8280"
      },
      "source": [
        "# input the two correlated features into one vector column\n",
        "assembler = VectorAssembler(inputCols=['rooms', 'lower_status'], outputCol = 'features')\n",
        "\n",
        "output = assembler.transform(df4)\n",
        "\n",
        "# to select the features and house_price column only\n",
        "vector_data = output.select(\"features\",\"house_price\")\n",
        "\n",
        "vector_data.show()\n",
        "#output.show()"
      ],
      "execution_count": null,
      "outputs": [
        {
          "output_type": "stream",
          "text": [
            "+-------------+-----------+\n",
            "|     features|house_price|\n",
            "+-------------+-----------+\n",
            "| [6.575,4.98]|       24.0|\n",
            "| [6.421,9.14]|       21.6|\n",
            "| [7.185,4.03]|       34.7|\n",
            "| [6.998,2.94]|       33.4|\n",
            "| [7.147,5.33]|       36.2|\n",
            "|  [6.43,5.21]|       28.7|\n",
            "|[6.012,12.43]|       22.9|\n",
            "|[6.172,19.15]|       27.1|\n",
            "|[5.631,29.93]|       16.5|\n",
            "| [6.004,17.1]|       18.9|\n",
            "|[6.377,20.45]|       15.0|\n",
            "|[6.009,13.27]|       18.9|\n",
            "|[5.889,15.71]|       21.7|\n",
            "| [5.949,8.26]|       20.4|\n",
            "|[6.096,10.26]|       18.2|\n",
            "| [5.834,8.47]|       19.9|\n",
            "| [5.935,6.58]|       23.1|\n",
            "| [5.99,14.67]|       17.5|\n",
            "|[5.456,11.69]|       20.2|\n",
            "|[5.727,11.28]|       18.2|\n",
            "+-------------+-----------+\n",
            "only showing top 20 rows\n",
            "\n"
          ],
          "name": "stdout"
        }
      ]
    },
    {
      "cell_type": "markdown",
      "metadata": {
        "id": "TgOc5n7gIjam"
      },
      "source": [
        "## MinMaxScaler\n",
        "Normalize the data using the MinMaxScaler which scales each variable to have values between 0 and 1."
      ]
    },
    {
      "cell_type": "code",
      "metadata": {
        "id": "r0YLTR3EHVq5"
      },
      "source": [
        "# apply MinMaxScaler transformation to the features\n",
        "#features_MinMaxScaler = MinMaxScaler(inputCol = 'features', outputCol = 'scaled_features')\n",
        "\n",
        "#output_scaled = features_MinMaxScaler.fit(vector_data)\n",
        "\n",
        "#scaled_features_df = output_scaled.transform(vector_data)\n",
        "\n",
        "#scaled_features_df.show(10)"
      ],
      "execution_count": null,
      "outputs": []
    },
    {
      "cell_type": "markdown",
      "metadata": {
        "id": "vi4pPWotiAwm"
      },
      "source": [
        "The performance of the model declined when MinMaxScaler was applied to the data so was not used."
      ]
    },
    {
      "cell_type": "markdown",
      "metadata": {
        "id": "r4csMzlHid5c"
      },
      "source": [
        "## Create a training and test set"
      ]
    },
    {
      "cell_type": "code",
      "metadata": {
        "id": "o1zCNCm2DB4w"
      },
      "source": [
        "# split the dataset into training and testing data - 80:20 split\n",
        "splits = vector_data.randomSplit([0.8, 0.2])\n",
        "train_df = splits[0]\n",
        "test_df = splits[1]"
      ],
      "execution_count": null,
      "outputs": []
    },
    {
      "cell_type": "markdown",
      "metadata": {
        "id": "64Pl2o5TDJ7m"
      },
      "source": [
        "## Linear regression model\n",
        "Build a linear regression model, fit the model to the training set and make predictions from the trained model using the test set."
      ]
    },
    {
      "cell_type": "code",
      "metadata": {
        "colab": {
          "base_uri": "https://localhost:8080/"
        },
        "id": "pn_lRMmMKCBF",
        "outputId": "14abdc4f-8cf9-40bb-f0d6-92b4a26d376a"
      },
      "source": [
        "# create linear regression model\n",
        "lr = LinearRegression(featuresCol = 'features', labelCol = 'house_price')\n",
        "\n",
        "# learn to fit the model from training set\n",
        "lr_model = lr.fit(train_df)\n",
        "\n",
        "# make predictions from trained model using test dataset\n",
        "predictions = lr_model.transform(test_df)\n",
        "\n",
        "# show the predictions\n",
        "predictions.show(10)"
      ],
      "execution_count": null,
      "outputs": [
        {
          "output_type": "stream",
          "text": [
            "+-------------+-----------+------------------+\n",
            "|     features|house_price|        prediction|\n",
            "+-------------+-----------+------------------+\n",
            "|[4.906,34.77]|       13.8|1.7884492208278584|\n",
            "| [4.963,14.0]|       21.9|15.513695460400294|\n",
            "|[5.186,28.32]|       17.8|7.2820233404595465|\n",
            "|[5.277,30.81]|        7.2| 6.095828102350652|\n",
            "|[5.344,23.09]|       20.0|11.412421970239322|\n",
            "|[5.427,18.14]|       13.8| 15.00933386120977|\n",
            "|[5.453,30.59]|        5.0| 7.064551435628467|\n",
            "|[5.531,27.38]|        8.5| 9.510579825863383|\n",
            "|[5.594,13.09]|       17.4|19.065351288146008|\n",
            "|[5.599,16.51]|       13.9| 16.87287338746116|\n",
            "+-------------+-----------+------------------+\n",
            "only showing top 10 rows\n",
            "\n"
          ],
          "name": "stdout"
        }
      ]
    },
    {
      "cell_type": "markdown",
      "metadata": {
        "id": "2mctta0dSJ3n"
      },
      "source": [
        "### Coefficients"
      ]
    },
    {
      "cell_type": "code",
      "metadata": {
        "colab": {
          "base_uri": "https://localhost:8080/"
        },
        "id": "EU6mGdnrKLHY",
        "outputId": "e01ec4a4-6237-46d0-d047-aa827a0f7d40"
      },
      "source": [
        "print(\"Coefficients: {0:.1f}, {1:.1f}\".format(*lr_model.coefficients))\n",
        "print(\"Intercept: {0:.1f}\".format(lr_model.intercept))"
      ],
      "execution_count": null,
      "outputs": [
        {
          "output_type": "stream",
          "text": [
            "Coefficients: 4.7, -0.6\n",
            "Intercept: 1.3\n"
          ],
          "name": "stdout"
        }
      ]
    },
    {
      "cell_type": "markdown",
      "metadata": {
        "id": "lYVOfp2SKTL3"
      },
      "source": [
        "predicted house price = (4.7 x number of rooms)-(0.6 x %lower status)+1.3"
      ]
    },
    {
      "cell_type": "markdown",
      "metadata": {
        "id": "-rNlXxyPSXCn"
      },
      "source": [
        "### Evaluate the Model\n",
        "The statistical metrics r2 and RMSE were used to calculate the performance of the model on the test data."
      ]
    },
    {
      "cell_type": "code",
      "metadata": {
        "colab": {
          "base_uri": "https://localhost:8080/"
        },
        "id": "Q6qQObrXK10m",
        "outputId": "0f6bcfb0-244a-4b6a-acde-2f0c8c19cee6"
      },
      "source": [
        "from pyspark.ml.evaluation import RegressionEvaluator\n",
        "\n",
        "lr_predictions = lr_model.transform(test_df)\n",
        "lr_predictions.select(\"prediction\",\"house_price\",\"features\").show(5)\n",
        "\n",
        "lr_evaluator = RegressionEvaluator(predictionCol=\"prediction\", \\\n",
        "                 labelCol=\"house_price\",metricName=\"r2\")\n",
        "\n",
        "print(\"R Squared (r2) on test data = %g\" % lr_evaluator.evaluate(lr_predictions))"
      ],
      "execution_count": null,
      "outputs": [
        {
          "output_type": "stream",
          "text": [
            "+------------------+-----------+-------------+\n",
            "|        prediction|house_price|     features|\n",
            "+------------------+-----------+-------------+\n",
            "|1.7884492208278584|       13.8|[4.906,34.77]|\n",
            "|15.513695460400294|       21.9| [4.963,14.0]|\n",
            "|7.2820233404595465|       17.8|[5.186,28.32]|\n",
            "| 6.095828102350652|        7.2|[5.277,30.81]|\n",
            "|11.412421970239322|       20.0|[5.344,23.09]|\n",
            "+------------------+-----------+-------------+\n",
            "only showing top 5 rows\n",
            "\n",
            "R Squared (r2) on test data = 0.717594\n"
          ],
          "name": "stdout"
        }
      ]
    },
    {
      "cell_type": "markdown",
      "metadata": {
        "id": "0CE2PdnZUqMM"
      },
      "source": [
        "The R-squared value is greater than 0.6 which signifies the model is performing well on the test data."
      ]
    },
    {
      "cell_type": "code",
      "metadata": {
        "colab": {
          "base_uri": "https://localhost:8080/"
        },
        "id": "RiAH3_GVLAG3",
        "outputId": "66fceb16-1fec-4a9c-d29d-015a056835d2"
      },
      "source": [
        "test_result = lr_model.evaluate(test_df)\n",
        "print(\"Root Mean Squared Error (RMSE) on test data = %g\" % test_result.rootMeanSquaredError)"
      ],
      "execution_count": null,
      "outputs": [
        {
          "output_type": "stream",
          "text": [
            "Root Mean Squared Error (RMSE) on test data = 5.04596\n"
          ],
          "name": "stdout"
        }
      ]
    },
    {
      "cell_type": "markdown",
      "metadata": {
        "id": "2yEWierdZODv"
      },
      "source": [
        "The RMSE value is fairly low at 5.05 - the closer the value to zero the better."
      ]
    },
    {
      "cell_type": "code",
      "metadata": {
        "colab": {
          "base_uri": "https://localhost:8080/"
        },
        "id": "xftiKALgT_zW",
        "outputId": "65defda2-bdf7-4e7f-9470-9ab2a15d785d"
      },
      "source": [
        "# run the describe method on the test set\n",
        "test_df.describe().show()"
      ],
      "execution_count": null,
      "outputs": [
        {
          "output_type": "stream",
          "text": [
            "+-------+------------------+\n",
            "|summary|       house_price|\n",
            "+-------+------------------+\n",
            "|  count|               103|\n",
            "|   mean|21.877669902912622|\n",
            "| stddev|  9.54168287905637|\n",
            "|    min|               5.0|\n",
            "|    max|              50.0|\n",
            "+-------+------------------+\n",
            "\n"
          ],
          "name": "stdout"
        }
      ]
    },
    {
      "cell_type": "markdown",
      "metadata": {
        "id": "8Gf7nqHeUGB9"
      },
      "source": [
        "This is pretty accurate - count, min and max are correct and the mean and standard deviation are close to the values calculated for the entire dataset of 22.53 and 9.20 respectively."
      ]
    }
  ]
}